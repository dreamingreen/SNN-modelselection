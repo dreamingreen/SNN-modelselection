{
 "cells": [
  {
   "cell_type": "code",
   "execution_count": 1,
   "metadata": {
    "execution": {
     "iopub.execute_input": "2020-12-10T17:36:31.631862Z",
     "iopub.status.busy": "2020-12-10T17:36:31.631075Z",
     "iopub.status.idle": "2020-12-10T17:36:33.192304Z",
     "shell.execute_reply": "2020-12-10T17:36:33.191471Z"
    },
    "id": "lhk5f_1MI5lN",
    "papermill": {
     "duration": 1.588463,
     "end_time": "2020-12-10T17:36:33.192437",
     "exception": false,
     "start_time": "2020-12-10T17:36:31.603974",
     "status": "completed"
    },
    "tags": []
   },
   "outputs": [],
   "source": [
    "import pandas as pd\n",
    "from sklearn.model_selection import train_test_split\n",
    "from sklearn.metrics import accuracy_score\n",
    "from sklearn import tree\n",
    "from sklearn.ensemble import AdaBoostClassifier\n",
    "from sklearn.ensemble import RandomForestClassifier\n",
    "from sklearn.ensemble import RandomForestClassifier\n",
    "from sklearn.neighbors import KNeighborsClassifier\n",
    "\n",
    "import numpy as np\n",
    "import matplotlib.pyplot as plt\n",
    "from matplotlib.pyplot import figure"
   ]
  },
  {
   "cell_type": "code",
   "execution_count": 2,
   "metadata": {
    "execution": {
     "iopub.execute_input": "2020-12-10T17:36:33.238793Z",
     "iopub.status.busy": "2020-12-10T17:36:33.238112Z",
     "iopub.status.idle": "2020-12-10T17:36:33.273840Z",
     "shell.execute_reply": "2020-12-10T17:36:33.272985Z"
    },
    "id": "R_2Plt-SH6Zm",
    "papermill": {
     "duration": 0.06162,
     "end_time": "2020-12-10T17:36:33.273981",
     "exception": false,
     "start_time": "2020-12-10T17:36:33.212361",
     "status": "completed"
    },
    "tags": []
   },
   "outputs": [],
   "source": [
    "#Opening the files as Pandas dataframes\n",
    "df = pd.read_csv('../input/SMEMI309-final-evaluation-challenge-2020/AT4_train.csv')\n",
    "no_label_data = pd.read_csv('../input/SMEMI309-final-evaluation-challenge-2020/AT4_test.csv') #no label"
   ]
  },
  {
   "cell_type": "code",
   "execution_count": 3,
   "metadata": {
    "execution": {
     "iopub.execute_input": "2020-12-10T17:36:33.329207Z",
     "iopub.status.busy": "2020-12-10T17:36:33.328135Z",
     "iopub.status.idle": "2020-12-10T17:36:33.357088Z",
     "shell.execute_reply": "2020-12-10T17:36:33.356486Z"
    },
    "id": "ZTVCO0v-TvPQ",
    "outputId": "64267369-f364-4069-d3f2-49c50b2f1dd9",
    "papermill": {
     "duration": 0.064186,
     "end_time": "2020-12-10T17:36:33.357211",
     "exception": false,
     "start_time": "2020-12-10T17:36:33.293025",
     "status": "completed"
    },
    "tags": []
   },
   "outputs": [
    {
     "data": {
      "text/html": [
       "<div>\n",
       "<style scoped>\n",
       "    .dataframe tbody tr th:only-of-type {\n",
       "        vertical-align: middle;\n",
       "    }\n",
       "\n",
       "    .dataframe tbody tr th {\n",
       "        vertical-align: top;\n",
       "    }\n",
       "\n",
       "    .dataframe thead th {\n",
       "        text-align: right;\n",
       "    }\n",
       "</style>\n",
       "<table border=\"1\" class=\"dataframe\">\n",
       "  <thead>\n",
       "    <tr style=\"text-align: right;\">\n",
       "      <th></th>\n",
       "      <th>label</th>\n",
       "      <th>onsc1</th>\n",
       "      <th>onsc2</th>\n",
       "      <th>onsc3</th>\n",
       "      <th>onsc4</th>\n",
       "      <th>onsc5</th>\n",
       "      <th>onsc6</th>\n",
       "      <th>onsc7</th>\n",
       "      <th>onsc8</th>\n",
       "      <th>onsc9</th>\n",
       "      <th>...</th>\n",
       "      <th>onsto1</th>\n",
       "      <th>onsto2</th>\n",
       "      <th>onsto3</th>\n",
       "      <th>onsto4</th>\n",
       "      <th>onsto5</th>\n",
       "      <th>onsto6</th>\n",
       "      <th>onsto7</th>\n",
       "      <th>onsto8</th>\n",
       "      <th>onsto9</th>\n",
       "      <th>onsto10</th>\n",
       "    </tr>\n",
       "  </thead>\n",
       "  <tbody>\n",
       "    <tr>\n",
       "      <th>0</th>\n",
       "      <td>3</td>\n",
       "      <td>10</td>\n",
       "      <td>9</td>\n",
       "      <td>11</td>\n",
       "      <td>8</td>\n",
       "      <td>12</td>\n",
       "      <td>10</td>\n",
       "      <td>11</td>\n",
       "      <td>6</td>\n",
       "      <td>10</td>\n",
       "      <td>...</td>\n",
       "      <td>4</td>\n",
       "      <td>0</td>\n",
       "      <td>0</td>\n",
       "      <td>0</td>\n",
       "      <td>7</td>\n",
       "      <td>4</td>\n",
       "      <td>7</td>\n",
       "      <td>7</td>\n",
       "      <td>4</td>\n",
       "      <td>0</td>\n",
       "    </tr>\n",
       "    <tr>\n",
       "      <th>1</th>\n",
       "      <td>3</td>\n",
       "      <td>9</td>\n",
       "      <td>8</td>\n",
       "      <td>9</td>\n",
       "      <td>6</td>\n",
       "      <td>6</td>\n",
       "      <td>9</td>\n",
       "      <td>7</td>\n",
       "      <td>5</td>\n",
       "      <td>9</td>\n",
       "      <td>...</td>\n",
       "      <td>3</td>\n",
       "      <td>6</td>\n",
       "      <td>0</td>\n",
       "      <td>3</td>\n",
       "      <td>9</td>\n",
       "      <td>0</td>\n",
       "      <td>6</td>\n",
       "      <td>3</td>\n",
       "      <td>6</td>\n",
       "      <td>0</td>\n",
       "    </tr>\n",
       "    <tr>\n",
       "      <th>2</th>\n",
       "      <td>0</td>\n",
       "      <td>8</td>\n",
       "      <td>6</td>\n",
       "      <td>9</td>\n",
       "      <td>9</td>\n",
       "      <td>11</td>\n",
       "      <td>9</td>\n",
       "      <td>9</td>\n",
       "      <td>3</td>\n",
       "      <td>4</td>\n",
       "      <td>...</td>\n",
       "      <td>9</td>\n",
       "      <td>3</td>\n",
       "      <td>0</td>\n",
       "      <td>3</td>\n",
       "      <td>0</td>\n",
       "      <td>3</td>\n",
       "      <td>3</td>\n",
       "      <td>3</td>\n",
       "      <td>3</td>\n",
       "      <td>0</td>\n",
       "    </tr>\n",
       "    <tr>\n",
       "      <th>3</th>\n",
       "      <td>1</td>\n",
       "      <td>7</td>\n",
       "      <td>4</td>\n",
       "      <td>5</td>\n",
       "      <td>7</td>\n",
       "      <td>11</td>\n",
       "      <td>7</td>\n",
       "      <td>12</td>\n",
       "      <td>3</td>\n",
       "      <td>4</td>\n",
       "      <td>...</td>\n",
       "      <td>2</td>\n",
       "      <td>8</td>\n",
       "      <td>2</td>\n",
       "      <td>0</td>\n",
       "      <td>2</td>\n",
       "      <td>1</td>\n",
       "      <td>2</td>\n",
       "      <td>9</td>\n",
       "      <td>2</td>\n",
       "      <td>2</td>\n",
       "    </tr>\n",
       "    <tr>\n",
       "      <th>4</th>\n",
       "      <td>1</td>\n",
       "      <td>13</td>\n",
       "      <td>9</td>\n",
       "      <td>11</td>\n",
       "      <td>9</td>\n",
       "      <td>10</td>\n",
       "      <td>13</td>\n",
       "      <td>11</td>\n",
       "      <td>8</td>\n",
       "      <td>9</td>\n",
       "      <td>...</td>\n",
       "      <td>0</td>\n",
       "      <td>4</td>\n",
       "      <td>4</td>\n",
       "      <td>4</td>\n",
       "      <td>4</td>\n",
       "      <td>0</td>\n",
       "      <td>0</td>\n",
       "      <td>8</td>\n",
       "      <td>8</td>\n",
       "      <td>3</td>\n",
       "    </tr>\n",
       "    <tr>\n",
       "      <th>...</th>\n",
       "      <td>...</td>\n",
       "      <td>...</td>\n",
       "      <td>...</td>\n",
       "      <td>...</td>\n",
       "      <td>...</td>\n",
       "      <td>...</td>\n",
       "      <td>...</td>\n",
       "      <td>...</td>\n",
       "      <td>...</td>\n",
       "      <td>...</td>\n",
       "      <td>...</td>\n",
       "      <td>...</td>\n",
       "      <td>...</td>\n",
       "      <td>...</td>\n",
       "      <td>...</td>\n",
       "      <td>...</td>\n",
       "      <td>...</td>\n",
       "      <td>...</td>\n",
       "      <td>...</td>\n",
       "      <td>...</td>\n",
       "      <td>...</td>\n",
       "    </tr>\n",
       "    <tr>\n",
       "      <th>1275</th>\n",
       "      <td>1</td>\n",
       "      <td>10</td>\n",
       "      <td>9</td>\n",
       "      <td>10</td>\n",
       "      <td>9</td>\n",
       "      <td>10</td>\n",
       "      <td>10</td>\n",
       "      <td>10</td>\n",
       "      <td>7</td>\n",
       "      <td>8</td>\n",
       "      <td>...</td>\n",
       "      <td>0</td>\n",
       "      <td>0</td>\n",
       "      <td>0</td>\n",
       "      <td>0</td>\n",
       "      <td>0</td>\n",
       "      <td>0</td>\n",
       "      <td>0</td>\n",
       "      <td>0</td>\n",
       "      <td>9</td>\n",
       "      <td>0</td>\n",
       "    </tr>\n",
       "    <tr>\n",
       "      <th>1276</th>\n",
       "      <td>2</td>\n",
       "      <td>11</td>\n",
       "      <td>8</td>\n",
       "      <td>13</td>\n",
       "      <td>11</td>\n",
       "      <td>14</td>\n",
       "      <td>13</td>\n",
       "      <td>12</td>\n",
       "      <td>11</td>\n",
       "      <td>13</td>\n",
       "      <td>...</td>\n",
       "      <td>1</td>\n",
       "      <td>6</td>\n",
       "      <td>1</td>\n",
       "      <td>1</td>\n",
       "      <td>0</td>\n",
       "      <td>6</td>\n",
       "      <td>1</td>\n",
       "      <td>9</td>\n",
       "      <td>6</td>\n",
       "      <td>1</td>\n",
       "    </tr>\n",
       "    <tr>\n",
       "      <th>1277</th>\n",
       "      <td>1</td>\n",
       "      <td>8</td>\n",
       "      <td>7</td>\n",
       "      <td>9</td>\n",
       "      <td>9</td>\n",
       "      <td>8</td>\n",
       "      <td>8</td>\n",
       "      <td>8</td>\n",
       "      <td>6</td>\n",
       "      <td>6</td>\n",
       "      <td>...</td>\n",
       "      <td>0</td>\n",
       "      <td>0</td>\n",
       "      <td>4</td>\n",
       "      <td>0</td>\n",
       "      <td>0</td>\n",
       "      <td>4</td>\n",
       "      <td>4</td>\n",
       "      <td>8</td>\n",
       "      <td>8</td>\n",
       "      <td>4</td>\n",
       "    </tr>\n",
       "    <tr>\n",
       "      <th>1278</th>\n",
       "      <td>2</td>\n",
       "      <td>6</td>\n",
       "      <td>5</td>\n",
       "      <td>7</td>\n",
       "      <td>5</td>\n",
       "      <td>6</td>\n",
       "      <td>6</td>\n",
       "      <td>6</td>\n",
       "      <td>4</td>\n",
       "      <td>5</td>\n",
       "      <td>...</td>\n",
       "      <td>2</td>\n",
       "      <td>2</td>\n",
       "      <td>2</td>\n",
       "      <td>2</td>\n",
       "      <td>0</td>\n",
       "      <td>2</td>\n",
       "      <td>0</td>\n",
       "      <td>9</td>\n",
       "      <td>2</td>\n",
       "      <td>2</td>\n",
       "    </tr>\n",
       "    <tr>\n",
       "      <th>1279</th>\n",
       "      <td>0</td>\n",
       "      <td>10</td>\n",
       "      <td>8</td>\n",
       "      <td>10</td>\n",
       "      <td>9</td>\n",
       "      <td>12</td>\n",
       "      <td>10</td>\n",
       "      <td>12</td>\n",
       "      <td>7</td>\n",
       "      <td>8</td>\n",
       "      <td>...</td>\n",
       "      <td>4</td>\n",
       "      <td>4</td>\n",
       "      <td>0</td>\n",
       "      <td>9</td>\n",
       "      <td>0</td>\n",
       "      <td>4</td>\n",
       "      <td>0</td>\n",
       "      <td>4</td>\n",
       "      <td>4</td>\n",
       "      <td>0</td>\n",
       "    </tr>\n",
       "  </tbody>\n",
       "</table>\n",
       "<p>1280 rows × 31 columns</p>\n",
       "</div>"
      ],
      "text/plain": [
       "      label  onsc1  onsc2  onsc3  onsc4  onsc5  onsc6  onsc7  onsc8  onsc9  \\\n",
       "0         3     10      9     11      8     12     10     11      6     10   \n",
       "1         3      9      8      9      6      6      9      7      5      9   \n",
       "2         0      8      6      9      9     11      9      9      3      4   \n",
       "3         1      7      4      5      7     11      7     12      3      4   \n",
       "4         1     13      9     11      9     10     13     11      8      9   \n",
       "...     ...    ...    ...    ...    ...    ...    ...    ...    ...    ...   \n",
       "1275      1     10      9     10      9     10     10     10      7      8   \n",
       "1276      2     11      8     13     11     14     13     12     11     13   \n",
       "1277      1      8      7      9      9      8      8      8      6      6   \n",
       "1278      2      6      5      7      5      6      6      6      4      5   \n",
       "1279      0     10      8     10      9     12     10     12      7      8   \n",
       "\n",
       "      ...  onsto1  onsto2  onsto3  onsto4  onsto5  onsto6  onsto7  onsto8  \\\n",
       "0     ...       4       0       0       0       7       4       7       7   \n",
       "1     ...       3       6       0       3       9       0       6       3   \n",
       "2     ...       9       3       0       3       0       3       3       3   \n",
       "3     ...       2       8       2       0       2       1       2       9   \n",
       "4     ...       0       4       4       4       4       0       0       8   \n",
       "...   ...     ...     ...     ...     ...     ...     ...     ...     ...   \n",
       "1275  ...       0       0       0       0       0       0       0       0   \n",
       "1276  ...       1       6       1       1       0       6       1       9   \n",
       "1277  ...       0       0       4       0       0       4       4       8   \n",
       "1278  ...       2       2       2       2       0       2       0       9   \n",
       "1279  ...       4       4       0       9       0       4       0       4   \n",
       "\n",
       "      onsto9  onsto10  \n",
       "0          4        0  \n",
       "1          6        0  \n",
       "2          3        0  \n",
       "3          2        2  \n",
       "4          8        3  \n",
       "...      ...      ...  \n",
       "1275       9        0  \n",
       "1276       6        1  \n",
       "1277       8        4  \n",
       "1278       2        2  \n",
       "1279       4        0  \n",
       "\n",
       "[1280 rows x 31 columns]"
      ]
     },
     "execution_count": 3,
     "metadata": {},
     "output_type": "execute_result"
    }
   ],
   "source": [
    "pd.DataFrame(df)"
   ]
  },
  {
   "cell_type": "code",
   "execution_count": 4,
   "metadata": {
    "execution": {
     "iopub.execute_input": "2020-12-10T17:36:33.403319Z",
     "iopub.status.busy": "2020-12-10T17:36:33.402571Z",
     "iopub.status.idle": "2020-12-10T17:36:33.406650Z",
     "shell.execute_reply": "2020-12-10T17:36:33.405948Z"
    },
    "id": "T-pZdyOtglx6",
    "outputId": "373cc7fd-0091-4911-eb4d-a02d45c2f82b",
    "papermill": {
     "duration": 0.028794,
     "end_time": "2020-12-10T17:36:33.406771",
     "exception": false,
     "start_time": "2020-12-10T17:36:33.377977",
     "status": "completed"
    },
    "tags": []
   },
   "outputs": [
    {
     "name": "stdout",
     "output_type": "stream",
     "text": [
      "(1280, 31)\n",
      "(320, 30)\n"
     ]
    }
   ],
   "source": [
    "# Shape of the training and testing dataframes\n",
    "print(df.shape)\n",
    "print(no_label_data.shape)"
   ]
  },
  {
   "cell_type": "markdown",
   "metadata": {
    "id": "B8yFbxzaoRLd",
    "papermill": {
     "duration": 0.022585,
     "end_time": "2020-12-10T17:36:33.450217",
     "exception": false,
     "start_time": "2020-12-10T17:36:33.427632",
     "status": "completed"
    },
    "tags": []
   },
   "source": [
    "Split the dataframe's columns from the label column (targets):"
   ]
  },
  {
   "cell_type": "code",
   "execution_count": 5,
   "metadata": {
    "execution": {
     "iopub.execute_input": "2020-12-10T17:36:33.502244Z",
     "iopub.status.busy": "2020-12-10T17:36:33.501395Z",
     "iopub.status.idle": "2020-12-10T17:36:33.504904Z",
     "shell.execute_reply": "2020-12-10T17:36:33.504258Z"
    },
    "id": "NB3xOW91ugMj",
    "papermill": {
     "duration": 0.033764,
     "end_time": "2020-12-10T17:36:33.505017",
     "exception": false,
     "start_time": "2020-12-10T17:36:33.471253",
     "status": "completed"
    },
    "tags": []
   },
   "outputs": [],
   "source": [
    "# train and labels for AT4\n",
    "columns_train = df.drop(['label'], axis=1).columns\n",
    "\n",
    "df_X = pd.DataFrame(df, columns= columns_train)\n",
    "df_y = pd.DataFrame(df, columns= ['label'])\n",
    "df_y = np.ravel(df_y)\n",
    "\n",
    "# for the last result\n",
    "nl_data_X = pd.DataFrame(no_label_data)"
   ]
  },
  {
   "cell_type": "code",
   "execution_count": 6,
   "metadata": {
    "execution": {
     "iopub.execute_input": "2020-12-10T17:36:33.567868Z",
     "iopub.status.busy": "2020-12-10T17:36:33.567042Z",
     "iopub.status.idle": "2020-12-10T17:36:33.573668Z",
     "shell.execute_reply": "2020-12-10T17:36:33.573123Z"
    },
    "id": "VTiQynaL3qbj",
    "outputId": "bffa0b1b-e1fd-45d6-b4aa-9f3056f2c363",
    "papermill": {
     "duration": 0.048123,
     "end_time": "2020-12-10T17:36:33.573789",
     "exception": false,
     "start_time": "2020-12-10T17:36:33.525666",
     "status": "completed"
    },
    "tags": []
   },
   "outputs": [
    {
     "data": {
      "text/html": [
       "<div>\n",
       "<style scoped>\n",
       "    .dataframe tbody tr th:only-of-type {\n",
       "        vertical-align: middle;\n",
       "    }\n",
       "\n",
       "    .dataframe tbody tr th {\n",
       "        vertical-align: top;\n",
       "    }\n",
       "\n",
       "    .dataframe thead th {\n",
       "        text-align: right;\n",
       "    }\n",
       "</style>\n",
       "<table border=\"1\" class=\"dataframe\">\n",
       "  <thead>\n",
       "    <tr style=\"text-align: right;\">\n",
       "      <th></th>\n",
       "      <th>onsc1</th>\n",
       "      <th>onsc2</th>\n",
       "      <th>onsc3</th>\n",
       "      <th>onsc4</th>\n",
       "      <th>onsc5</th>\n",
       "      <th>onsc6</th>\n",
       "      <th>onsc7</th>\n",
       "      <th>onsc8</th>\n",
       "      <th>onsc9</th>\n",
       "      <th>onsc10</th>\n",
       "      <th>...</th>\n",
       "      <th>onsto1</th>\n",
       "      <th>onsto2</th>\n",
       "      <th>onsto3</th>\n",
       "      <th>onsto4</th>\n",
       "      <th>onsto5</th>\n",
       "      <th>onsto6</th>\n",
       "      <th>onsto7</th>\n",
       "      <th>onsto8</th>\n",
       "      <th>onsto9</th>\n",
       "      <th>onsto10</th>\n",
       "    </tr>\n",
       "  </thead>\n",
       "  <tbody>\n",
       "    <tr>\n",
       "      <th>0</th>\n",
       "      <td>8</td>\n",
       "      <td>7</td>\n",
       "      <td>7</td>\n",
       "      <td>8</td>\n",
       "      <td>10</td>\n",
       "      <td>8</td>\n",
       "      <td>10</td>\n",
       "      <td>5</td>\n",
       "      <td>5</td>\n",
       "      <td>8</td>\n",
       "      <td>...</td>\n",
       "      <td>2</td>\n",
       "      <td>2</td>\n",
       "      <td>8</td>\n",
       "      <td>2</td>\n",
       "      <td>0</td>\n",
       "      <td>2</td>\n",
       "      <td>0</td>\n",
       "      <td>8</td>\n",
       "      <td>2</td>\n",
       "      <td>2</td>\n",
       "    </tr>\n",
       "    <tr>\n",
       "      <th>1</th>\n",
       "      <td>11</td>\n",
       "      <td>8</td>\n",
       "      <td>13</td>\n",
       "      <td>8</td>\n",
       "      <td>10</td>\n",
       "      <td>12</td>\n",
       "      <td>11</td>\n",
       "      <td>8</td>\n",
       "      <td>5</td>\n",
       "      <td>14</td>\n",
       "      <td>...</td>\n",
       "      <td>0</td>\n",
       "      <td>0</td>\n",
       "      <td>0</td>\n",
       "      <td>8</td>\n",
       "      <td>0</td>\n",
       "      <td>0</td>\n",
       "      <td>0</td>\n",
       "      <td>8</td>\n",
       "      <td>0</td>\n",
       "      <td>0</td>\n",
       "    </tr>\n",
       "    <tr>\n",
       "      <th>2</th>\n",
       "      <td>13</td>\n",
       "      <td>11</td>\n",
       "      <td>18</td>\n",
       "      <td>10</td>\n",
       "      <td>9</td>\n",
       "      <td>14</td>\n",
       "      <td>10</td>\n",
       "      <td>11</td>\n",
       "      <td>7</td>\n",
       "      <td>18</td>\n",
       "      <td>...</td>\n",
       "      <td>5</td>\n",
       "      <td>9</td>\n",
       "      <td>0</td>\n",
       "      <td>8</td>\n",
       "      <td>0</td>\n",
       "      <td>5</td>\n",
       "      <td>0</td>\n",
       "      <td>5</td>\n",
       "      <td>0</td>\n",
       "      <td>0</td>\n",
       "    </tr>\n",
       "    <tr>\n",
       "      <th>3</th>\n",
       "      <td>16</td>\n",
       "      <td>9</td>\n",
       "      <td>13</td>\n",
       "      <td>11</td>\n",
       "      <td>13</td>\n",
       "      <td>14</td>\n",
       "      <td>14</td>\n",
       "      <td>7</td>\n",
       "      <td>8</td>\n",
       "      <td>15</td>\n",
       "      <td>...</td>\n",
       "      <td>0</td>\n",
       "      <td>5</td>\n",
       "      <td>0</td>\n",
       "      <td>7</td>\n",
       "      <td>7</td>\n",
       "      <td>0</td>\n",
       "      <td>7</td>\n",
       "      <td>0</td>\n",
       "      <td>5</td>\n",
       "      <td>0</td>\n",
       "    </tr>\n",
       "    <tr>\n",
       "      <th>4</th>\n",
       "      <td>8</td>\n",
       "      <td>8</td>\n",
       "      <td>9</td>\n",
       "      <td>5</td>\n",
       "      <td>8</td>\n",
       "      <td>8</td>\n",
       "      <td>7</td>\n",
       "      <td>4</td>\n",
       "      <td>5</td>\n",
       "      <td>9</td>\n",
       "      <td>...</td>\n",
       "      <td>4</td>\n",
       "      <td>4</td>\n",
       "      <td>0</td>\n",
       "      <td>9</td>\n",
       "      <td>4</td>\n",
       "      <td>0</td>\n",
       "      <td>4</td>\n",
       "      <td>0</td>\n",
       "      <td>4</td>\n",
       "      <td>0</td>\n",
       "    </tr>\n",
       "    <tr>\n",
       "      <th>...</th>\n",
       "      <td>...</td>\n",
       "      <td>...</td>\n",
       "      <td>...</td>\n",
       "      <td>...</td>\n",
       "      <td>...</td>\n",
       "      <td>...</td>\n",
       "      <td>...</td>\n",
       "      <td>...</td>\n",
       "      <td>...</td>\n",
       "      <td>...</td>\n",
       "      <td>...</td>\n",
       "      <td>...</td>\n",
       "      <td>...</td>\n",
       "      <td>...</td>\n",
       "      <td>...</td>\n",
       "      <td>...</td>\n",
       "      <td>...</td>\n",
       "      <td>...</td>\n",
       "      <td>...</td>\n",
       "      <td>...</td>\n",
       "      <td>...</td>\n",
       "    </tr>\n",
       "    <tr>\n",
       "      <th>315</th>\n",
       "      <td>10</td>\n",
       "      <td>9</td>\n",
       "      <td>11</td>\n",
       "      <td>10</td>\n",
       "      <td>8</td>\n",
       "      <td>11</td>\n",
       "      <td>9</td>\n",
       "      <td>9</td>\n",
       "      <td>8</td>\n",
       "      <td>12</td>\n",
       "      <td>...</td>\n",
       "      <td>0</td>\n",
       "      <td>7</td>\n",
       "      <td>0</td>\n",
       "      <td>0</td>\n",
       "      <td>0</td>\n",
       "      <td>0</td>\n",
       "      <td>0</td>\n",
       "      <td>7</td>\n",
       "      <td>7</td>\n",
       "      <td>0</td>\n",
       "    </tr>\n",
       "    <tr>\n",
       "      <th>316</th>\n",
       "      <td>7</td>\n",
       "      <td>5</td>\n",
       "      <td>8</td>\n",
       "      <td>6</td>\n",
       "      <td>7</td>\n",
       "      <td>7</td>\n",
       "      <td>7</td>\n",
       "      <td>5</td>\n",
       "      <td>6</td>\n",
       "      <td>8</td>\n",
       "      <td>...</td>\n",
       "      <td>2</td>\n",
       "      <td>7</td>\n",
       "      <td>2</td>\n",
       "      <td>2</td>\n",
       "      <td>0</td>\n",
       "      <td>2</td>\n",
       "      <td>0</td>\n",
       "      <td>9</td>\n",
       "      <td>7</td>\n",
       "      <td>2</td>\n",
       "    </tr>\n",
       "    <tr>\n",
       "      <th>317</th>\n",
       "      <td>7</td>\n",
       "      <td>5</td>\n",
       "      <td>5</td>\n",
       "      <td>7</td>\n",
       "      <td>7</td>\n",
       "      <td>5</td>\n",
       "      <td>6</td>\n",
       "      <td>2</td>\n",
       "      <td>6</td>\n",
       "      <td>6</td>\n",
       "      <td>...</td>\n",
       "      <td>0</td>\n",
       "      <td>2</td>\n",
       "      <td>2</td>\n",
       "      <td>2</td>\n",
       "      <td>2</td>\n",
       "      <td>2</td>\n",
       "      <td>2</td>\n",
       "      <td>9</td>\n",
       "      <td>0</td>\n",
       "      <td>2</td>\n",
       "    </tr>\n",
       "    <tr>\n",
       "      <th>318</th>\n",
       "      <td>7</td>\n",
       "      <td>6</td>\n",
       "      <td>7</td>\n",
       "      <td>6</td>\n",
       "      <td>7</td>\n",
       "      <td>7</td>\n",
       "      <td>6</td>\n",
       "      <td>4</td>\n",
       "      <td>5</td>\n",
       "      <td>8</td>\n",
       "      <td>...</td>\n",
       "      <td>1</td>\n",
       "      <td>6</td>\n",
       "      <td>6</td>\n",
       "      <td>1</td>\n",
       "      <td>0</td>\n",
       "      <td>1</td>\n",
       "      <td>1</td>\n",
       "      <td>9</td>\n",
       "      <td>6</td>\n",
       "      <td>1</td>\n",
       "    </tr>\n",
       "    <tr>\n",
       "      <th>319</th>\n",
       "      <td>11</td>\n",
       "      <td>6</td>\n",
       "      <td>12</td>\n",
       "      <td>12</td>\n",
       "      <td>15</td>\n",
       "      <td>6</td>\n",
       "      <td>14</td>\n",
       "      <td>2</td>\n",
       "      <td>6</td>\n",
       "      <td>12</td>\n",
       "      <td>...</td>\n",
       "      <td>4</td>\n",
       "      <td>7</td>\n",
       "      <td>0</td>\n",
       "      <td>0</td>\n",
       "      <td>4</td>\n",
       "      <td>8</td>\n",
       "      <td>4</td>\n",
       "      <td>9</td>\n",
       "      <td>0</td>\n",
       "      <td>0</td>\n",
       "    </tr>\n",
       "  </tbody>\n",
       "</table>\n",
       "<p>320 rows × 30 columns</p>\n",
       "</div>"
      ],
      "text/plain": [
       "     onsc1  onsc2  onsc3  onsc4  onsc5  onsc6  onsc7  onsc8  onsc9  onsc10  \\\n",
       "0        8      7      7      8     10      8     10      5      5       8   \n",
       "1       11      8     13      8     10     12     11      8      5      14   \n",
       "2       13     11     18     10      9     14     10     11      7      18   \n",
       "3       16      9     13     11     13     14     14      7      8      15   \n",
       "4        8      8      9      5      8      8      7      4      5       9   \n",
       "..     ...    ...    ...    ...    ...    ...    ...    ...    ...     ...   \n",
       "315     10      9     11     10      8     11      9      9      8      12   \n",
       "316      7      5      8      6      7      7      7      5      6       8   \n",
       "317      7      5      5      7      7      5      6      2      6       6   \n",
       "318      7      6      7      6      7      7      6      4      5       8   \n",
       "319     11      6     12     12     15      6     14      2      6      12   \n",
       "\n",
       "     ...  onsto1  onsto2  onsto3  onsto4  onsto5  onsto6  onsto7  onsto8  \\\n",
       "0    ...       2       2       8       2       0       2       0       8   \n",
       "1    ...       0       0       0       8       0       0       0       8   \n",
       "2    ...       5       9       0       8       0       5       0       5   \n",
       "3    ...       0       5       0       7       7       0       7       0   \n",
       "4    ...       4       4       0       9       4       0       4       0   \n",
       "..   ...     ...     ...     ...     ...     ...     ...     ...     ...   \n",
       "315  ...       0       7       0       0       0       0       0       7   \n",
       "316  ...       2       7       2       2       0       2       0       9   \n",
       "317  ...       0       2       2       2       2       2       2       9   \n",
       "318  ...       1       6       6       1       0       1       1       9   \n",
       "319  ...       4       7       0       0       4       8       4       9   \n",
       "\n",
       "     onsto9  onsto10  \n",
       "0         2        2  \n",
       "1         0        0  \n",
       "2         0        0  \n",
       "3         5        0  \n",
       "4         4        0  \n",
       "..      ...      ...  \n",
       "315       7        0  \n",
       "316       7        2  \n",
       "317       0        2  \n",
       "318       6        1  \n",
       "319       0        0  \n",
       "\n",
       "[320 rows x 30 columns]"
      ]
     },
     "execution_count": 6,
     "metadata": {},
     "output_type": "execute_result"
    }
   ],
   "source": [
    "# AT4_test\n",
    "nl_data_X"
   ]
  },
  {
   "cell_type": "markdown",
   "metadata": {
    "id": "kw6ufUKZjJOt",
    "papermill": {
     "duration": 0.021404,
     "end_time": "2020-12-10T17:36:33.616448",
     "exception": false,
     "start_time": "2020-12-10T17:36:33.595044",
     "status": "completed"
    },
    "tags": []
   },
   "source": [
    "Splitting the initial dataframe AT4_train.csv into 4 sets : training columns (train_X), training labels (train_y), testing columns (test_X) and the testing labels (test_y) by giving the columns to use for training and labels, while dedicating 25% for the testing set. We will also shuffle the data before splitting it."
   ]
  },
  {
   "cell_type": "code",
   "execution_count": 7,
   "metadata": {
    "execution": {
     "iopub.execute_input": "2020-12-10T17:36:33.671893Z",
     "iopub.status.busy": "2020-12-10T17:36:33.671139Z",
     "iopub.status.idle": "2020-12-10T17:36:33.674885Z",
     "shell.execute_reply": "2020-12-10T17:36:33.674182Z"
    },
    "id": "KuxmAnsogkLv",
    "papermill": {
     "duration": 0.035756,
     "end_time": "2020-12-10T17:36:33.675025",
     "exception": false,
     "start_time": "2020-12-10T17:36:33.639269",
     "status": "completed"
    },
    "tags": []
   },
   "outputs": [],
   "source": [
    "# Splitting into training and testing \n",
    "train_X, test_X, train_y, test_y = train_test_split(df_X, df_y, test_size=0.25, shuffle=True)"
   ]
  },
  {
   "cell_type": "markdown",
   "metadata": {
    "id": "NTsDKtktknzq",
    "papermill": {
     "duration": 0.021366,
     "end_time": "2020-12-10T17:36:33.718059",
     "exception": false,
     "start_time": "2020-12-10T17:36:33.696693",
     "status": "completed"
    },
    "tags": []
   },
   "source": [
    "Let's create the function prediction_model which we will use for fitting, getting the predictions and testing the accuracy of the different Classifiers of Scikit learn:"
   ]
  },
  {
   "cell_type": "code",
   "execution_count": 8,
   "metadata": {
    "execution": {
     "iopub.execute_input": "2020-12-10T17:36:33.769909Z",
     "iopub.status.busy": "2020-12-10T17:36:33.768908Z",
     "iopub.status.idle": "2020-12-10T17:36:33.771871Z",
     "shell.execute_reply": "2020-12-10T17:36:33.771207Z"
    },
    "id": "qetvZ7dKbspS",
    "papermill": {
     "duration": 0.032172,
     "end_time": "2020-12-10T17:36:33.772003",
     "exception": false,
     "start_time": "2020-12-10T17:36:33.739831",
     "status": "completed"
    },
    "tags": []
   },
   "outputs": [],
   "source": [
    "def prediction_model(model):\n",
    "  global prediction_train\n",
    "  global prediction\n",
    "\n",
    "# Fitting the model\n",
    "  model.fit(train_X, train_y)\n",
    "\n",
    "# Predictions on the training set\n",
    "  prediction_train = model.predict(train_X)\n",
    "\n",
    "# Predictions on the testing set\n",
    "  prediction = model.predict(test_X)\n",
    "\n",
    "  print(\"Training accuracy: \", accuracy_score(train_y, prediction_train))\n",
    "  print(\"Testing accuracy: \", accuracy_score(test_y, prediction))\n"
   ]
  },
  {
   "cell_type": "markdown",
   "metadata": {
    "id": "prINHWw9mLmm",
    "papermill": {
     "duration": 0.021153,
     "end_time": "2020-12-10T17:36:33.815420",
     "exception": false,
     "start_time": "2020-12-10T17:36:33.794267",
     "status": "completed"
    },
    "tags": []
   },
   "source": [
    "------\n",
    "**Decision tree Classifier:**\n",
    "\n",
    "The varying parameter is the maximum depth of the tree"
   ]
  },
  {
   "cell_type": "code",
   "execution_count": 9,
   "metadata": {
    "execution": {
     "iopub.execute_input": "2020-12-10T17:36:33.865880Z",
     "iopub.status.busy": "2020-12-10T17:36:33.865192Z",
     "iopub.status.idle": "2020-12-10T17:36:33.868461Z",
     "shell.execute_reply": "2020-12-10T17:36:33.867945Z"
    },
    "id": "ihFF41wD6ZYh",
    "papermill": {
     "duration": 0.030231,
     "end_time": "2020-12-10T17:36:33.868605",
     "exception": false,
     "start_time": "2020-12-10T17:36:33.838374",
     "status": "completed"
    },
    "tags": []
   },
   "outputs": [],
   "source": [
    "def dtc_model(max_depth):\n",
    "  model_dtc = tree.DecisionTreeClassifier(max_depth=int(max_depth))\n",
    "  prediction_model(model_dtc)"
   ]
  },
  {
   "cell_type": "code",
   "execution_count": 10,
   "metadata": {
    "execution": {
     "iopub.execute_input": "2020-12-10T17:36:33.923077Z",
     "iopub.status.busy": "2020-12-10T17:36:33.922301Z",
     "iopub.status.idle": "2020-12-10T17:36:34.286248Z",
     "shell.execute_reply": "2020-12-10T17:36:34.286784Z"
    },
    "id": "h26NNBn56aPs",
    "outputId": "b044a8d7-79f2-4504-8171-f27d6d93dc13",
    "papermill": {
     "duration": 0.396588,
     "end_time": "2020-12-10T17:36:34.286943",
     "exception": false,
     "start_time": "2020-12-10T17:36:33.890355",
     "status": "completed"
    },
    "tags": []
   },
   "outputs": [
    {
     "name": "stdout",
     "output_type": "stream",
     "text": [
      "Maximum depth:  5\n",
      "Training accuracy:  0.8927083333333333\n",
      "Testing accuracy:  0.828125\n",
      "Maximum depth:  7\n",
      "Training accuracy:  0.95\n",
      "Testing accuracy:  0.853125\n",
      "Maximum depth:  10\n",
      "Training accuracy:  0.9895833333333334\n",
      "Testing accuracy:  0.85\n",
      "Maximum depth:  15\n",
      "Training accuracy:  1.0\n",
      "Testing accuracy:  0.85625\n",
      "Maximum depth:  20\n",
      "Training accuracy:  1.0\n",
      "Testing accuracy:  0.853125\n"
     ]
    },
    {
     "data": {
      "image/png": "[encoded data removed]",
      "text/plain": [
       "<Figure size 432x288 with 1 Axes>"
      ]
     },
     "metadata": {
      "needs_background": "light"
     },
     "output_type": "display_data"
    }
   ],
   "source": [
    "max_depth_table=[5,7,10,15,20]\n",
    "\n",
    "acc_testing = []\n",
    "acc_training = []\n",
    "\n",
    "for i in max_depth_table:\n",
    "  print(\"Maximum depth: \",i)\n",
    "  dtc_model(i)\n",
    "  acc_training.append(accuracy_score(train_y, prediction_train))\n",
    "  acc_testing.append(accuracy_score(test_y, prediction))\n",
    "\n",
    "# Plot accuracies for training and testing\n",
    "plt.scatter(max_depth_table, acc_training, color='blue', label='Accuracy for training')\n",
    "plt.scatter(max_depth_table, acc_testing, color='red', label='Accuracy for testing')\n",
    "plt.title('Decision tree classifier')\n",
    "plt.xlabel('Maximum depth')\n",
    "plt.ylabel('Accuracy')\n",
    "plt.legend()\n",
    "plt.show()"
   ]
  },
  {
   "cell_type": "markdown",
   "metadata": {
    "papermill": {
     "duration": 0.022152,
     "end_time": "2020-12-10T17:36:34.331998",
     "exception": false,
     "start_time": "2020-12-10T17:36:34.309846",
     "status": "completed"
    },
    "tags": []
   },
   "source": [
    "This classifier doesn't seem to give very high accuracy in general, we will confirm this by comparing the next classifiers. We can also note that the more it trains, the lower the accuracy becomes, probably because of overfitting (we can see that the training accuracy reaches 100% very quickly)."
   ]
  },
  {
   "cell_type": "markdown",
   "metadata": {
    "id": "jKNitWo76g8o",
    "papermill": {
     "duration": 0.02418,
     "end_time": "2020-12-10T17:36:34.378892",
     "exception": false,
     "start_time": "2020-12-10T17:36:34.354712",
     "status": "completed"
    },
    "tags": []
   },
   "source": [
    "-----\n",
    "**AdaBoost Classifier**\n",
    "\n",
    "The varying parameters for AdaBoost are maximum depth of the tree (max_depth, D on the plot) and the number of estimators (n_estimators, E on the plot)"
   ]
  },
  {
   "cell_type": "code",
   "execution_count": 11,
   "metadata": {
    "execution": {
     "iopub.execute_input": "2020-12-10T17:36:34.431955Z",
     "iopub.status.busy": "2020-12-10T17:36:34.430940Z",
     "iopub.status.idle": "2020-12-10T17:36:34.434585Z",
     "shell.execute_reply": "2020-12-10T17:36:34.434069Z"
    },
    "id": "zLwPadJvMoIQ",
    "papermill": {
     "duration": 0.03213,
     "end_time": "2020-12-10T17:36:34.434704",
     "exception": false,
     "start_time": "2020-12-10T17:36:34.402574",
     "status": "completed"
    },
    "tags": []
   },
   "outputs": [],
   "source": [
    "def abc_model (max_depth, estimators):\n",
    "  model = AdaBoostClassifier(tree.DecisionTreeClassifier(max_depth=int(max_depth)), n_estimators=int(estimators))\n",
    "  prediction_model(model)"
   ]
  },
  {
   "cell_type": "code",
   "execution_count": 12,
   "metadata": {
    "execution": {
     "iopub.execute_input": "2020-12-10T17:36:34.515308Z",
     "iopub.status.busy": "2020-12-10T17:36:34.514566Z",
     "iopub.status.idle": "2020-12-10T17:37:07.547015Z",
     "shell.execute_reply": "2020-12-10T17:37:07.546221Z"
    },
    "id": "o_bDRWQ-MoZ9",
    "outputId": "85604e6d-1334-44bf-e728-6a6660ec0da4",
    "papermill": {
     "duration": 33.084205,
     "end_time": "2020-12-10T17:37:07.547135",
     "exception": false,
     "start_time": "2020-12-10T17:36:34.462930",
     "status": "completed"
    },
    "tags": []
   },
   "outputs": [
    {
     "name": "stdout",
     "output_type": "stream",
     "text": [
      "Maximum depth:  5\n",
      "Nb estimators:  5\n",
      "Training accuracy:  0.934375\n",
      "Testing accuracy:  0.821875\n",
      "Maximum depth:  5\n",
      "Nb estimators:  7\n",
      "Training accuracy:  0.9625\n",
      "Testing accuracy:  0.85625\n",
      "Maximum depth:  5\n",
      "Nb estimators:  10\n",
      "Training accuracy:  0.98125\n",
      "Testing accuracy:  0.85625\n",
      "Maximum depth:  5\n",
      "Nb estimators:  50\n",
      "Training accuracy:  1.0\n",
      "Testing accuracy:  0.928125\n",
      "Maximum depth:  5\n",
      "Nb estimators:  1000\n",
      "Training accuracy:  1.0\n",
      "Testing accuracy:  0.9375\n",
      "Maximum depth:  7\n",
      "Nb estimators:  5\n",
      "Training accuracy:  1.0\n",
      "Testing accuracy:  0.896875\n",
      "Maximum depth:  7\n",
      "Nb estimators:  7\n",
      "Training accuracy:  1.0\n",
      "Testing accuracy:  0.890625\n",
      "Maximum depth:  7\n",
      "Nb estimators:  10\n",
      "Training accuracy:  1.0\n",
      "Testing accuracy:  0.896875\n",
      "Maximum depth:  7\n",
      "Nb estimators:  50\n",
      "Training accuracy:  1.0\n",
      "Testing accuracy:  0.90625\n",
      "Maximum depth:  7\n",
      "Nb estimators:  1000\n",
      "Training accuracy:  1.0\n",
      "Testing accuracy:  0.9375\n",
      "Maximum depth:  10\n",
      "Nb estimators:  5\n",
      "Training accuracy:  1.0\n",
      "Testing accuracy:  0.89375\n",
      "Maximum depth:  10\n",
      "Nb estimators:  7\n",
      "Training accuracy:  1.0\n",
      "Testing accuracy:  0.90625\n",
      "Maximum depth:  10\n",
      "Nb estimators:  10\n",
      "Training accuracy:  1.0\n",
      "Testing accuracy:  0.8625\n",
      "Maximum depth:  10\n",
      "Nb estimators:  50\n",
      "Training accuracy:  1.0\n",
      "Testing accuracy:  0.925\n",
      "Maximum depth:  10\n",
      "Nb estimators:  1000\n",
      "Training accuracy:  1.0\n",
      "Testing accuracy:  0.934375\n",
      "Maximum depth:  11\n",
      "Nb estimators:  5\n",
      "Training accuracy:  1.0\n",
      "Testing accuracy:  0.878125\n",
      "Maximum depth:  11\n",
      "Nb estimators:  7\n",
      "Training accuracy:  1.0\n",
      "Testing accuracy:  0.890625\n",
      "Maximum depth:  11\n",
      "Nb estimators:  10\n",
      "Training accuracy:  1.0\n",
      "Testing accuracy:  0.90625\n",
      "Maximum depth:  11\n",
      "Nb estimators:  50\n",
      "Training accuracy:  1.0\n",
      "Testing accuracy:  0.9125\n",
      "Maximum depth:  11\n",
      "Nb estimators:  1000\n",
      "Training accuracy:  1.0\n",
      "Testing accuracy:  0.925\n",
      "Maximum depth:  50\n",
      "Nb estimators:  5\n",
      "Training accuracy:  1.0\n",
      "Testing accuracy:  0.828125\n",
      "Maximum depth:  50\n",
      "Nb estimators:  7\n",
      "Training accuracy:  1.0\n",
      "Testing accuracy:  0.846875\n",
      "Maximum depth:  50\n",
      "Nb estimators:  10\n",
      "Training accuracy:  1.0\n",
      "Testing accuracy:  0.83125\n",
      "Maximum depth:  50\n",
      "Nb estimators:  50\n",
      "Training accuracy:  1.0\n",
      "Testing accuracy:  0.83125\n",
      "Maximum depth:  50\n",
      "Nb estimators:  1000\n",
      "Training accuracy:  1.0\n",
      "Testing accuracy:  0.83125\n",
      "Maximum depth:  100\n",
      "Nb estimators:  5\n",
      "Training accuracy:  1.0\n",
      "Testing accuracy:  0.853125\n",
      "Maximum depth:  100\n",
      "Nb estimators:  7\n",
      "Training accuracy:  1.0\n",
      "Testing accuracy:  0.83125\n",
      "Maximum depth:  100\n",
      "Nb estimators:  10\n",
      "Training accuracy:  1.0\n",
      "Testing accuracy:  0.840625\n",
      "Maximum depth:  100\n",
      "Nb estimators:  50\n",
      "Training accuracy:  1.0\n",
      "Testing accuracy:  0.8375\n",
      "Maximum depth:  100\n",
      "Nb estimators:  1000\n",
      "Training accuracy:  1.0\n",
      "Testing accuracy:  0.83125\n"
     ]
    },
    {
     "data": {
      "image/png": "[encoded data removed]",
      "text/plain": [
       "<Figure size 1600x480 with 1 Axes>"
      ]
     },
     "metadata": {},
     "output_type": "display_data"
    },
    {
     "name": "stdout",
     "output_type": "stream",
     "text": [
      "['1) D5 - E5', '2) D5 - E7', '3) D5 - E10', '4) D5 - E50', '5) D5 - E1000', '6) D7 - E5', '7) D7 - E7', '8) D7 - E10', '9) D7 - E50', '10) D7 - E1000', '11) D10 - E5', '12) D10 - E7', '13) D10 - E10', '14) D10 - E50', '15) D10 - E1000', '16) D11 - E5', '17) D11 - E7', '18) D11 - E10', '19) D11 - E50', '20) D11 - E1000', '21) D50 - E5', '22) D50 - E7', '23) D50 - E10', '24) D50 - E50', '25) D50 - E1000', '26) D100 - E5', '27) D100 - E7', '28) D100 - E10', '29) D100 - E50', '30) D100 - E1000']\n"
     ]
    }
   ],
   "source": [
    "max_depth_table = [5,7,10,11,50,100]\n",
    "estimators_table = [5,7,10,50,1000]\n",
    "\n",
    "#Axis that will contain all values of the tables\n",
    "axis_table_1=[]\n",
    "n=0\n",
    "for i in range(len(max_depth_table)):\n",
    "  for j in range(len(estimators_table)):\n",
    "    n+=1\n",
    "    axis_table_1.append(str(n))\n",
    "\n",
    "axis_table_2=[]\n",
    "it=''\n",
    "for i in range(len(max_depth_table)):\n",
    "  for j in range(len(estimators_table)):\n",
    "    it=\"D\"+str(max_depth_table[i])+\" - E\"+str(estimators_table[j])\n",
    "    axis_table_2.append(it)\n",
    "        \n",
    "axis_table=[]\n",
    "for l in range(len(axis_table_1)):\n",
    "    axis_table.append(axis_table_1[l]+\") \"+axis_table_2[l])    \n",
    "    \n",
    "#Applying the model\n",
    "acc_testing = []\n",
    "acc_training = []\n",
    "\n",
    "for i in max_depth_table:\n",
    "  for j in estimators_table:\n",
    "    print(\"Maximum depth: \",i)\n",
    "    print(\"Nb estimators: \",j)\n",
    "    abc_model(i,j)\n",
    "    acc_training.append(accuracy_score(train_y, prediction_train))  \n",
    "    acc_testing.append(accuracy_score(test_y, prediction))\n",
    "\n",
    "# Plot accuracies for training and testing\n",
    "figure(num=None, figsize=(20, 6), dpi=80, facecolor='w', edgecolor='k')\n",
    "plt.scatter(axis_table_1, acc_training,color='blue', label='Accuracy for training')\n",
    "plt.scatter(axis_table_1, acc_testing,color='red', label='Accuracy for testing')\n",
    "plt.title('AdaBoost classifier')\n",
    "plt.xlabel('Parameters')\n",
    "plt.ylabel('Accuracy')\n",
    "plt.legend()\n",
    "plt.show()\n",
    "print(axis_table)"
   ]
  },
  {
   "cell_type": "markdown",
   "metadata": {
    "papermill": {
     "duration": 0.031027,
     "end_time": "2020-12-10T17:37:07.612626",
     "exception": false,
     "start_time": "2020-12-10T17:37:07.581599",
     "status": "completed"
    },
    "tags": []
   },
   "source": [
    "For AdaBoost, accuracy scores seem to be high for certain parameters. We can note a high score for high number of estimators and a lower to medium maximum depth. During the submission, the number of estimators in the range 10-1000 did not give a higher accuracy, even though on this plot, the accuracy clearly increased between 10 and 1000. For the maximum depth, the difference is not very different for 7 or 10. But once we increase max_depth above 10, we see a big drop in the accuracy score, probably due to overtraining.\n"
   ]
  },
  {
   "cell_type": "markdown",
   "metadata": {
    "id": "qBFK880QWVgA",
    "papermill": {
     "duration": 0.028028,
     "end_time": "2020-12-10T17:37:07.668399",
     "exception": false,
     "start_time": "2020-12-10T17:37:07.640371",
     "status": "completed"
    },
    "tags": []
   },
   "source": [
    "------\n",
    "**Bagging Classifier**\n",
    "\n",
    "The varying parameters are the maximum depth of the tree and the number of estimators"
   ]
  },
  {
   "cell_type": "code",
   "execution_count": 13,
   "metadata": {
    "execution": {
     "iopub.execute_input": "2020-12-10T17:37:07.731983Z",
     "iopub.status.busy": "2020-12-10T17:37:07.731009Z",
     "iopub.status.idle": "2020-12-10T17:37:07.733705Z",
     "shell.execute_reply": "2020-12-10T17:37:07.734151Z"
    },
    "id": "n7_wlCApRoEk",
    "papermill": {
     "duration": 0.037653,
     "end_time": "2020-12-10T17:37:07.734299",
     "exception": false,
     "start_time": "2020-12-10T17:37:07.696646",
     "status": "completed"
    },
    "tags": []
   },
   "outputs": [],
   "source": [
    "from sklearn.ensemble import BaggingClassifier\n",
    "\n",
    "def bc_model (max_depth, estimators):\n",
    "  model = BaggingClassifier(tree.DecisionTreeClassifier(max_depth= int(max_depth)), n_estimators= int(estimators))\n",
    "  prediction_model(model)"
   ]
  },
  {
   "cell_type": "code",
   "execution_count": 14,
   "metadata": {
    "execution": {
     "iopub.execute_input": "2020-12-10T17:37:07.802255Z",
     "iopub.status.busy": "2020-12-10T17:37:07.801430Z",
     "iopub.status.idle": "2020-12-10T17:37:11.127568Z",
     "shell.execute_reply": "2020-12-10T17:37:11.128158Z"
    },
    "id": "ib-GFcFXRqdV",
    "outputId": "73f636e9-5efc-4bcd-feeb-7fe643a839be",
    "papermill": {
     "duration": 3.365575,
     "end_time": "2020-12-10T17:37:11.128301",
     "exception": false,
     "start_time": "2020-12-10T17:37:07.762726",
     "status": "completed"
    },
    "tags": []
   },
   "outputs": [
    {
     "name": "stdout",
     "output_type": "stream",
     "text": [
      "Maximum depth:  2\n",
      "Nb estimators:  2\n",
      "Training accuracy:  0.6520833333333333\n",
      "Testing accuracy:  0.615625\n",
      "Maximum depth:  2\n",
      "Nb estimators:  5\n",
      "Training accuracy:  0.7104166666666667\n",
      "Testing accuracy:  0.66875\n",
      "Maximum depth:  2\n",
      "Nb estimators:  10\n",
      "Training accuracy:  0.6510416666666666\n",
      "Testing accuracy:  0.634375\n",
      "Maximum depth:  2\n",
      "Nb estimators:  100\n",
      "Training accuracy:  0.678125\n",
      "Testing accuracy:  0.653125\n",
      "Maximum depth:  5\n",
      "Nb estimators:  2\n",
      "Training accuracy:  0.8625\n",
      "Testing accuracy:  0.784375\n",
      "Maximum depth:  5\n",
      "Nb estimators:  5\n",
      "Training accuracy:  0.890625\n",
      "Testing accuracy:  0.846875\n",
      "Maximum depth:  5\n",
      "Nb estimators:  10\n",
      "Training accuracy:  0.9354166666666667\n",
      "Testing accuracy:  0.85\n",
      "Maximum depth:  5\n",
      "Nb estimators:  100\n",
      "Training accuracy:  0.9364583333333333\n",
      "Testing accuracy:  0.871875\n",
      "Maximum depth:  10\n",
      "Nb estimators:  2\n",
      "Training accuracy:  0.9364583333333333\n",
      "Testing accuracy:  0.846875\n",
      "Maximum depth:  10\n",
      "Nb estimators:  5\n",
      "Training accuracy:  0.984375\n",
      "Testing accuracy:  0.890625\n",
      "Maximum depth:  10\n",
      "Nb estimators:  10\n",
      "Training accuracy:  0.99375\n",
      "Testing accuracy:  0.8625\n",
      "Maximum depth:  10\n",
      "Nb estimators:  100\n",
      "Training accuracy:  0.9979166666666667\n",
      "Testing accuracy:  0.884375\n",
      "Maximum depth:  100\n",
      "Nb estimators:  2\n",
      "Training accuracy:  0.9260416666666667\n",
      "Testing accuracy:  0.809375\n",
      "Maximum depth:  100\n",
      "Nb estimators:  5\n",
      "Training accuracy:  0.9895833333333334\n",
      "Testing accuracy:  0.86875\n",
      "Maximum depth:  100\n",
      "Nb estimators:  10\n",
      "Training accuracy:  0.99375\n",
      "Testing accuracy:  0.8875\n",
      "Maximum depth:  100\n",
      "Nb estimators:  100\n",
      "Training accuracy:  1.0\n",
      "Testing accuracy:  0.8875\n"
     ]
    },
    {
     "data": {
      "image/png": "[encoded data removed]",
      "text/plain": [
       "<Figure size 1200x480 with 1 Axes>"
      ]
     },
     "metadata": {},
     "output_type": "display_data"
    },
    {
     "name": "stdout",
     "output_type": "stream",
     "text": [
      "['D2-E2', 'D2-E5', 'D2-E10', 'D2-E100', 'D5-E2', 'D5-E5', 'D5-E10', 'D5-E100', 'D10-E2', 'D10-E5', 'D10-E10', 'D10-E100', 'D100-E2', 'D100-E5', 'D100-E10', 'D100-E100']\n"
     ]
    }
   ],
   "source": [
    "max_depth_table = [2,5,10,100]\n",
    "estimators_table = [2,5,10,100]\n",
    "\n",
    "axis_table=[]\n",
    "it=''\n",
    "for i in range(len(max_depth_table)):\n",
    "  for j in range(len(estimators_table)):\n",
    "    it=\"D\"+str(max_depth_table[i])+\"-E\"+str(estimators_table[j])\n",
    "    axis_table.append(it)\n",
    "\n",
    "acc_testing = []\n",
    "acc_training = []\n",
    "\n",
    "for i in max_depth_table:\n",
    "  for j in estimators_table:\n",
    "    print(\"Maximum depth: \",i)\n",
    "    print(\"Nb estimators: \",j)\n",
    "    bc_model(i,j)\n",
    "    acc_training.append(accuracy_score(train_y, prediction_train))  \n",
    "    acc_testing.append(accuracy_score(test_y, prediction))\n",
    "\n",
    "figure(num=None, figsize=(15, 6), dpi=80, facecolor='w', edgecolor='k')\n",
    "plt.scatter(axis_table, acc_training, color='blue', label='Accuracy for training')\n",
    "plt.scatter(axis_table, acc_testing,color='red', label='Accuracy for testing')\n",
    "plt.title('Bagging classifier')\n",
    "plt.xlabel('Parameters')\n",
    "plt.ylabel('Accuracy')\n",
    "plt.legend()\n",
    "plt.show()\n",
    "print(axis_table)"
   ]
  },
  {
   "cell_type": "markdown",
   "metadata": {
    "papermill": {
     "duration": 0.032307,
     "end_time": "2020-12-10T17:37:11.192847",
     "exception": false,
     "start_time": "2020-12-10T17:37:11.160540",
     "status": "completed"
    },
    "tags": []
   },
   "source": [
    "With those parameters, we can understand the performance of the Bagging classifier. The depth seems like it has to be 5 or higher to get a decent score. Even with max_depth=100, we get close results to max_depth=5 probably because the tree was already at its maximum depth. Then, we notice the ideal value for the number of estimators is, the same way as for the maximum depth, starting to get interesting at number 5 and higher.\n",
    "In comparison with AdaBoost, we could not get an accuracy past 90%, so in theory the prediction on the submission accuracy should also be lower."
   ]
  },
  {
   "cell_type": "markdown",
   "metadata": {
    "id": "FNKRTSib_yDF",
    "papermill": {
     "duration": 0.032362,
     "end_time": "2020-12-10T17:37:11.256720",
     "exception": false,
     "start_time": "2020-12-10T17:37:11.224358",
     "status": "completed"
    },
    "tags": []
   },
   "source": [
    "-----\n",
    "**KNeighbors Classifier**\n",
    "\n",
    "The varying parameter is the number of neighbors"
   ]
  },
  {
   "cell_type": "code",
   "execution_count": 15,
   "metadata": {
    "execution": {
     "iopub.execute_input": "2020-12-10T17:37:11.324476Z",
     "iopub.status.busy": "2020-12-10T17:37:11.323806Z",
     "iopub.status.idle": "2020-12-10T17:37:11.326898Z",
     "shell.execute_reply": "2020-12-10T17:37:11.326264Z"
    },
    "id": "gK5CPg366CVU",
    "papermill": {
     "duration": 0.03949,
     "end_time": "2020-12-10T17:37:11.327066",
     "exception": false,
     "start_time": "2020-12-10T17:37:11.287576",
     "status": "completed"
    },
    "tags": []
   },
   "outputs": [],
   "source": [
    "def kn_model(neighbors):\n",
    "  model = KNeighborsClassifier(n_neighbors=neighbors )\n",
    "  prediction_model(model)"
   ]
  },
  {
   "cell_type": "code",
   "execution_count": 16,
   "metadata": {
    "execution": {
     "iopub.execute_input": "2020-12-10T17:37:11.406911Z",
     "iopub.status.busy": "2020-12-10T17:37:11.406046Z",
     "iopub.status.idle": "2020-12-10T17:37:12.244128Z",
     "shell.execute_reply": "2020-12-10T17:37:12.243603Z"
    },
    "id": "NtdYxG_W6low",
    "outputId": "f8a9dfa1-da16-4a63-abd8-6d343bb0c12d",
    "papermill": {
     "duration": 0.884876,
     "end_time": "2020-12-10T17:37:12.244252",
     "exception": false,
     "start_time": "2020-12-10T17:37:11.359376",
     "status": "completed"
    },
    "tags": []
   },
   "outputs": [
    {
     "name": "stdout",
     "output_type": "stream",
     "text": [
      "Number of neighbors:  2\n",
      "Training accuracy:  0.9739583333333334\n",
      "Testing accuracy:  0.915625\n",
      "Number of neighbors:  3\n",
      "Training accuracy:  0.9635416666666666\n",
      "Testing accuracy:  0.921875\n",
      "Number of neighbors:  4\n",
      "Training accuracy:  0.9479166666666666\n",
      "Testing accuracy:  0.9125\n",
      "Number of neighbors:  5\n",
      "Training accuracy:  0.9458333333333333\n",
      "Testing accuracy:  0.9125\n",
      "Number of neighbors:  6\n",
      "Training accuracy:  0.94375\n",
      "Testing accuracy:  0.9125\n",
      "Number of neighbors:  7\n",
      "Training accuracy:  0.9375\n",
      "Testing accuracy:  0.9125\n",
      "Number of neighbors:  8\n",
      "Training accuracy:  0.934375\n",
      "Testing accuracy:  0.915625\n"
     ]
    },
    {
     "data": {
      "image/png": "[encoded data removed]",
      "text/plain": [
       "<Figure size 432x288 with 1 Axes>"
      ]
     },
     "metadata": {
      "needs_background": "light"
     },
     "output_type": "display_data"
    }
   ],
   "source": [
    "neighbors_table=[2,3,4,5,6,7,8]\n",
    "\n",
    "acc_testing = []\n",
    "acc_training = []\n",
    "\n",
    "\n",
    "for i in neighbors_table:\n",
    "  print(\"Number of neighbors: \",i)\n",
    "  kn_model(i)\n",
    "  acc_training.append(accuracy_score(train_y, prediction_train))\n",
    "  acc_testing.append(accuracy_score(test_y, prediction))\n",
    "\n",
    "\n",
    "plt.scatter(neighbors_table, acc_training, color='blue', label='Accuracy for training')\n",
    "plt.scatter(neighbors_table, acc_testing, color='red', label='Accuracy for testing')\n",
    "plt.title('Decision tree classifier')\n",
    "plt.xlabel('Parameters')\n",
    "plt.ylabel('Accuracy')\n",
    "plt.legend()\n",
    "plt.show()"
   ]
  },
  {
   "cell_type": "markdown",
   "metadata": {
    "papermill": {
     "duration": 0.032999,
     "end_time": "2020-12-10T17:37:12.310618",
     "exception": false,
     "start_time": "2020-12-10T17:37:12.277619",
     "status": "completed"
    },
    "tags": []
   },
   "source": [
    "This model, even though we only modified one parameter, gets decent accuracy score for 5 neighbors at 92.5% comparing to bagging which could not surpass 90%. Until now, this is one of the best accuracies."
   ]
  },
  {
   "cell_type": "markdown",
   "metadata": {
    "id": "W55i0bWXDala",
    "papermill": {
     "duration": 0.032384,
     "end_time": "2020-12-10T17:37:12.376039",
     "exception": false,
     "start_time": "2020-12-10T17:37:12.343655",
     "status": "completed"
    },
    "tags": []
   },
   "source": [
    "-------\n",
    "**Multi Layer Perceptron (with logistic and relu)**\n",
    "\n",
    "As an activation function, logistic and linear regression were tested (A). The varying parameters are the alpha (a) which is the learning rate, and the batch size (B) which is the number of instances the model is going to use for training in each batch. \n",
    "\n",
    "\n"
   ]
  },
  {
   "cell_type": "code",
   "execution_count": 17,
   "metadata": {
    "execution": {
     "iopub.execute_input": "2020-12-10T17:37:12.452833Z",
     "iopub.status.busy": "2020-12-10T17:37:12.451905Z",
     "iopub.status.idle": "2020-12-10T17:37:12.464694Z",
     "shell.execute_reply": "2020-12-10T17:37:12.463985Z"
    },
    "id": "eaLmRuI5Azh3",
    "papermill": {
     "duration": 0.054427,
     "end_time": "2020-12-10T17:37:12.464819",
     "exception": false,
     "start_time": "2020-12-10T17:37:12.410392",
     "status": "completed"
    },
    "tags": []
   },
   "outputs": [],
   "source": [
    "from sklearn.neural_network import MLPClassifier\n",
    "\n",
    "def mlp_model(activation_type,alpha,batch_size):\n",
    "  global model\n",
    "  model = MLPClassifier(activation=activation_type, alpha=alpha, batch_size=batch_size, learning_rate_init=0.001, random_state=1,  max_iter=10)\n",
    "  prediction_model(model)"
   ]
  },
  {
   "cell_type": "code",
   "execution_count": 18,
   "metadata": {
    "execution": {
     "iopub.execute_input": "2020-12-10T17:37:12.547936Z",
     "iopub.status.busy": "2020-12-10T17:37:12.545587Z",
     "iopub.status.idle": "2020-12-10T17:37:55.904426Z",
     "shell.execute_reply": "2020-12-10T17:37:55.904973Z"
    },
    "id": "4bVtpSq8EfHA",
    "outputId": "6d901669-2097-4069-8d02-a6a6693695b6",
    "papermill": {
     "duration": 43.407205,
     "end_time": "2020-12-10T17:37:55.905140",
     "exception": false,
     "start_time": "2020-12-10T17:37:12.497935",
     "status": "completed"
    },
    "tags": []
   },
   "outputs": [
    {
     "name": "stdout",
     "output_type": "stream",
     "text": [
      "Activation:  relu\n",
      "alpha:  0.1\n",
      "batch_size:  100\n",
      "Training accuracy:  0.8854166666666666\n",
      "Testing accuracy:  0.8375\n",
      "Activation:  relu\n",
      "alpha:  0.1\n",
      "batch_size:  25\n"
     ]
    },
    {
     "name": "stderr",
     "output_type": "stream",
     "text": [
      "/opt/conda/lib/python3.7/site-packages/sklearn/neural_network/_multilayer_perceptron.py:585: ConvergenceWarning: Stochastic Optimizer: Maximum iterations (10) reached and the optimization hasn't converged yet.\n",
      "  % self.max_iter, ConvergenceWarning)\n",
      "/opt/conda/lib/python3.7/site-packages/sklearn/neural_network/_multilayer_perceptron.py:585: ConvergenceWarning: Stochastic Optimizer: Maximum iterations (10) reached and the optimization hasn't converged yet.\n",
      "  % self.max_iter, ConvergenceWarning)\n"
     ]
    },
    {
     "name": "stdout",
     "output_type": "stream",
     "text": [
      "Training accuracy:  0.9364583333333333\n",
      "Testing accuracy:  0.8875\n",
      "Activation:  relu\n",
      "alpha:  0.1\n",
      "batch_size:  5\n"
     ]
    },
    {
     "name": "stderr",
     "output_type": "stream",
     "text": [
      "/opt/conda/lib/python3.7/site-packages/sklearn/neural_network/_multilayer_perceptron.py:585: ConvergenceWarning: Stochastic Optimizer: Maximum iterations (10) reached and the optimization hasn't converged yet.\n",
      "  % self.max_iter, ConvergenceWarning)\n"
     ]
    },
    {
     "name": "stdout",
     "output_type": "stream",
     "text": [
      "Training accuracy:  0.9447916666666667\n",
      "Testing accuracy:  0.915625\n",
      "Activation:  relu\n",
      "alpha:  0.1\n",
      "batch_size:  1\n"
     ]
    },
    {
     "name": "stderr",
     "output_type": "stream",
     "text": [
      "/opt/conda/lib/python3.7/site-packages/sklearn/neural_network/_multilayer_perceptron.py:585: ConvergenceWarning: Stochastic Optimizer: Maximum iterations (10) reached and the optimization hasn't converged yet.\n",
      "  % self.max_iter, ConvergenceWarning)\n",
      "/opt/conda/lib/python3.7/site-packages/sklearn/neural_network/_multilayer_perceptron.py:585: ConvergenceWarning: Stochastic Optimizer: Maximum iterations (10) reached and the optimization hasn't converged yet.\n",
      "  % self.max_iter, ConvergenceWarning)\n"
     ]
    },
    {
     "name": "stdout",
     "output_type": "stream",
     "text": [
      "Training accuracy:  0.8510416666666667\n",
      "Testing accuracy:  0.81875\n",
      "Activation:  relu\n",
      "alpha:  0.001\n",
      "batch_size:  100\n",
      "Training accuracy:  0.884375\n",
      "Testing accuracy:  0.834375\n",
      "Activation:  relu\n",
      "alpha:  0.001\n",
      "batch_size:  25\n"
     ]
    },
    {
     "name": "stderr",
     "output_type": "stream",
     "text": [
      "/opt/conda/lib/python3.7/site-packages/sklearn/neural_network/_multilayer_perceptron.py:585: ConvergenceWarning: Stochastic Optimizer: Maximum iterations (10) reached and the optimization hasn't converged yet.\n",
      "  % self.max_iter, ConvergenceWarning)\n"
     ]
    },
    {
     "name": "stdout",
     "output_type": "stream",
     "text": [
      "Training accuracy:  0.9364583333333333\n",
      "Testing accuracy:  0.8875\n",
      "Activation:  relu\n",
      "alpha:  0.001\n",
      "batch_size:  5\n"
     ]
    },
    {
     "name": "stderr",
     "output_type": "stream",
     "text": [
      "/opt/conda/lib/python3.7/site-packages/sklearn/neural_network/_multilayer_perceptron.py:585: ConvergenceWarning: Stochastic Optimizer: Maximum iterations (10) reached and the optimization hasn't converged yet.\n",
      "  % self.max_iter, ConvergenceWarning)\n"
     ]
    },
    {
     "name": "stdout",
     "output_type": "stream",
     "text": [
      "Training accuracy:  0.9541666666666667\n",
      "Testing accuracy:  0.88125\n",
      "Activation:  relu\n",
      "alpha:  0.001\n",
      "batch_size:  1\n"
     ]
    },
    {
     "name": "stderr",
     "output_type": "stream",
     "text": [
      "/opt/conda/lib/python3.7/site-packages/sklearn/neural_network/_multilayer_perceptron.py:585: ConvergenceWarning: Stochastic Optimizer: Maximum iterations (10) reached and the optimization hasn't converged yet.\n",
      "  % self.max_iter, ConvergenceWarning)\n",
      "/opt/conda/lib/python3.7/site-packages/sklearn/neural_network/_multilayer_perceptron.py:585: ConvergenceWarning: Stochastic Optimizer: Maximum iterations (10) reached and the optimization hasn't converged yet.\n",
      "  % self.max_iter, ConvergenceWarning)\n"
     ]
    },
    {
     "name": "stdout",
     "output_type": "stream",
     "text": [
      "Training accuracy:  0.940625\n",
      "Testing accuracy:  0.91875\n",
      "Activation:  relu\n",
      "alpha:  0.0001\n",
      "batch_size:  100\n",
      "Training accuracy:  0.8854166666666666\n",
      "Testing accuracy:  0.834375\n",
      "Activation:  relu\n",
      "alpha:  0.0001\n",
      "batch_size:  25\n"
     ]
    },
    {
     "name": "stderr",
     "output_type": "stream",
     "text": [
      "/opt/conda/lib/python3.7/site-packages/sklearn/neural_network/_multilayer_perceptron.py:585: ConvergenceWarning: Stochastic Optimizer: Maximum iterations (10) reached and the optimization hasn't converged yet.\n",
      "  % self.max_iter, ConvergenceWarning)\n"
     ]
    },
    {
     "name": "stdout",
     "output_type": "stream",
     "text": [
      "Training accuracy:  0.934375\n",
      "Testing accuracy:  0.884375\n",
      "Activation:  relu\n",
      "alpha:  0.0001\n",
      "batch_size:  5\n"
     ]
    },
    {
     "name": "stderr",
     "output_type": "stream",
     "text": [
      "/opt/conda/lib/python3.7/site-packages/sklearn/neural_network/_multilayer_perceptron.py:585: ConvergenceWarning: Stochastic Optimizer: Maximum iterations (10) reached and the optimization hasn't converged yet.\n",
      "  % self.max_iter, ConvergenceWarning)\n"
     ]
    },
    {
     "name": "stdout",
     "output_type": "stream",
     "text": [
      "Training accuracy:  0.959375\n",
      "Testing accuracy:  0.896875\n",
      "Activation:  relu\n",
      "alpha:  0.0001\n",
      "batch_size:  1\n"
     ]
    },
    {
     "name": "stderr",
     "output_type": "stream",
     "text": [
      "/opt/conda/lib/python3.7/site-packages/sklearn/neural_network/_multilayer_perceptron.py:585: ConvergenceWarning: Stochastic Optimizer: Maximum iterations (10) reached and the optimization hasn't converged yet.\n",
      "  % self.max_iter, ConvergenceWarning)\n",
      "/opt/conda/lib/python3.7/site-packages/sklearn/neural_network/_multilayer_perceptron.py:585: ConvergenceWarning: Stochastic Optimizer: Maximum iterations (10) reached and the optimization hasn't converged yet.\n",
      "  % self.max_iter, ConvergenceWarning)\n"
     ]
    },
    {
     "name": "stdout",
     "output_type": "stream",
     "text": [
      "Training accuracy:  0.9489583333333333\n",
      "Testing accuracy:  0.921875\n",
      "Activation:  relu\n",
      "alpha:  1e-06\n",
      "batch_size:  100\n",
      "Training accuracy:  0.8854166666666666\n",
      "Testing accuracy:  0.8375\n",
      "Activation:  relu\n",
      "alpha:  1e-06\n",
      "batch_size:  25\n"
     ]
    },
    {
     "name": "stderr",
     "output_type": "stream",
     "text": [
      "/opt/conda/lib/python3.7/site-packages/sklearn/neural_network/_multilayer_perceptron.py:585: ConvergenceWarning: Stochastic Optimizer: Maximum iterations (10) reached and the optimization hasn't converged yet.\n",
      "  % self.max_iter, ConvergenceWarning)\n"
     ]
    },
    {
     "name": "stdout",
     "output_type": "stream",
     "text": [
      "Training accuracy:  0.9375\n",
      "Testing accuracy:  0.890625\n",
      "Activation:  relu\n",
      "alpha:  1e-06\n",
      "batch_size:  5\n"
     ]
    },
    {
     "name": "stderr",
     "output_type": "stream",
     "text": [
      "/opt/conda/lib/python3.7/site-packages/sklearn/neural_network/_multilayer_perceptron.py:585: ConvergenceWarning: Stochastic Optimizer: Maximum iterations (10) reached and the optimization hasn't converged yet.\n",
      "  % self.max_iter, ConvergenceWarning)\n"
     ]
    },
    {
     "name": "stdout",
     "output_type": "stream",
     "text": [
      "Training accuracy:  0.9635416666666666\n",
      "Testing accuracy:  0.9125\n",
      "Activation:  relu\n",
      "alpha:  1e-06\n",
      "batch_size:  1\n"
     ]
    },
    {
     "name": "stderr",
     "output_type": "stream",
     "text": [
      "/opt/conda/lib/python3.7/site-packages/sklearn/neural_network/_multilayer_perceptron.py:585: ConvergenceWarning: Stochastic Optimizer: Maximum iterations (10) reached and the optimization hasn't converged yet.\n",
      "  % self.max_iter, ConvergenceWarning)\n",
      "/opt/conda/lib/python3.7/site-packages/sklearn/neural_network/_multilayer_perceptron.py:585: ConvergenceWarning: Stochastic Optimizer: Maximum iterations (10) reached and the optimization hasn't converged yet.\n",
      "  % self.max_iter, ConvergenceWarning)\n"
     ]
    },
    {
     "name": "stdout",
     "output_type": "stream",
     "text": [
      "Training accuracy:  0.9416666666666667\n",
      "Testing accuracy:  0.928125\n",
      "Activation:  logistic\n",
      "alpha:  0.1\n",
      "batch_size:  100\n",
      "Training accuracy:  0.8697916666666666\n",
      "Testing accuracy:  0.85625\n",
      "Activation:  logistic\n",
      "alpha:  0.1\n",
      "batch_size:  25\n"
     ]
    },
    {
     "name": "stderr",
     "output_type": "stream",
     "text": [
      "/opt/conda/lib/python3.7/site-packages/sklearn/neural_network/_multilayer_perceptron.py:585: ConvergenceWarning: Stochastic Optimizer: Maximum iterations (10) reached and the optimization hasn't converged yet.\n",
      "  % self.max_iter, ConvergenceWarning)\n"
     ]
    },
    {
     "name": "stdout",
     "output_type": "stream",
     "text": [
      "Training accuracy:  0.9197916666666667\n",
      "Testing accuracy:  0.8875\n",
      "Activation:  logistic\n",
      "alpha:  0.1\n",
      "batch_size:  5\n"
     ]
    },
    {
     "name": "stderr",
     "output_type": "stream",
     "text": [
      "/opt/conda/lib/python3.7/site-packages/sklearn/neural_network/_multilayer_perceptron.py:585: ConvergenceWarning: Stochastic Optimizer: Maximum iterations (10) reached and the optimization hasn't converged yet.\n",
      "  % self.max_iter, ConvergenceWarning)\n"
     ]
    },
    {
     "name": "stdout",
     "output_type": "stream",
     "text": [
      "Training accuracy:  0.9104166666666667\n",
      "Testing accuracy:  0.89375\n",
      "Activation:  logistic\n",
      "alpha:  0.1\n",
      "batch_size:  1\n"
     ]
    },
    {
     "name": "stderr",
     "output_type": "stream",
     "text": [
      "/opt/conda/lib/python3.7/site-packages/sklearn/neural_network/_multilayer_perceptron.py:585: ConvergenceWarning: Stochastic Optimizer: Maximum iterations (10) reached and the optimization hasn't converged yet.\n",
      "  % self.max_iter, ConvergenceWarning)\n",
      "/opt/conda/lib/python3.7/site-packages/sklearn/neural_network/_multilayer_perceptron.py:585: ConvergenceWarning: Stochastic Optimizer: Maximum iterations (10) reached and the optimization hasn't converged yet.\n",
      "  % self.max_iter, ConvergenceWarning)\n"
     ]
    },
    {
     "name": "stdout",
     "output_type": "stream",
     "text": [
      "Training accuracy:  0.778125\n",
      "Testing accuracy:  0.753125\n",
      "Activation:  logistic\n",
      "alpha:  0.001\n",
      "batch_size:  100\n",
      "Training accuracy:  0.8677083333333333\n",
      "Testing accuracy:  0.85625\n",
      "Activation:  logistic\n",
      "alpha:  0.001\n",
      "batch_size:  25\n"
     ]
    },
    {
     "name": "stderr",
     "output_type": "stream",
     "text": [
      "/opt/conda/lib/python3.7/site-packages/sklearn/neural_network/_multilayer_perceptron.py:585: ConvergenceWarning: Stochastic Optimizer: Maximum iterations (10) reached and the optimization hasn't converged yet.\n",
      "  % self.max_iter, ConvergenceWarning)\n"
     ]
    },
    {
     "name": "stdout",
     "output_type": "stream",
     "text": [
      "Training accuracy:  0.9229166666666667\n",
      "Testing accuracy:  0.890625\n",
      "Activation:  logistic\n",
      "alpha:  0.001\n",
      "batch_size:  5\n"
     ]
    },
    {
     "name": "stderr",
     "output_type": "stream",
     "text": [
      "/opt/conda/lib/python3.7/site-packages/sklearn/neural_network/_multilayer_perceptron.py:585: ConvergenceWarning: Stochastic Optimizer: Maximum iterations (10) reached and the optimization hasn't converged yet.\n",
      "  % self.max_iter, ConvergenceWarning)\n"
     ]
    },
    {
     "name": "stdout",
     "output_type": "stream",
     "text": [
      "Training accuracy:  0.9260416666666667\n",
      "Testing accuracy:  0.9\n",
      "Activation:  logistic\n",
      "alpha:  0.001\n",
      "batch_size:  1\n"
     ]
    },
    {
     "name": "stderr",
     "output_type": "stream",
     "text": [
      "/opt/conda/lib/python3.7/site-packages/sklearn/neural_network/_multilayer_perceptron.py:585: ConvergenceWarning: Stochastic Optimizer: Maximum iterations (10) reached and the optimization hasn't converged yet.\n",
      "  % self.max_iter, ConvergenceWarning)\n",
      "/opt/conda/lib/python3.7/site-packages/sklearn/neural_network/_multilayer_perceptron.py:585: ConvergenceWarning: Stochastic Optimizer: Maximum iterations (10) reached and the optimization hasn't converged yet.\n",
      "  % self.max_iter, ConvergenceWarning)\n"
     ]
    },
    {
     "name": "stdout",
     "output_type": "stream",
     "text": [
      "Training accuracy:  0.9114583333333334\n",
      "Testing accuracy:  0.88125\n",
      "Activation:  logistic\n",
      "alpha:  0.0001\n",
      "batch_size:  100\n",
      "Training accuracy:  0.8677083333333333\n",
      "Testing accuracy:  0.85625\n",
      "Activation:  logistic\n",
      "alpha:  0.0001\n",
      "batch_size:  25\n"
     ]
    },
    {
     "name": "stderr",
     "output_type": "stream",
     "text": [
      "/opt/conda/lib/python3.7/site-packages/sklearn/neural_network/_multilayer_perceptron.py:585: ConvergenceWarning: Stochastic Optimizer: Maximum iterations (10) reached and the optimization hasn't converged yet.\n",
      "  % self.max_iter, ConvergenceWarning)\n"
     ]
    },
    {
     "name": "stdout",
     "output_type": "stream",
     "text": [
      "Training accuracy:  0.9229166666666667\n",
      "Testing accuracy:  0.890625\n",
      "Activation:  logistic\n",
      "alpha:  0.0001\n",
      "batch_size:  5\n"
     ]
    },
    {
     "name": "stderr",
     "output_type": "stream",
     "text": [
      "/opt/conda/lib/python3.7/site-packages/sklearn/neural_network/_multilayer_perceptron.py:585: ConvergenceWarning: Stochastic Optimizer: Maximum iterations (10) reached and the optimization hasn't converged yet.\n",
      "  % self.max_iter, ConvergenceWarning)\n"
     ]
    },
    {
     "name": "stdout",
     "output_type": "stream",
     "text": [
      "Training accuracy:  0.9270833333333334\n",
      "Testing accuracy:  0.896875\n",
      "Activation:  logistic\n",
      "alpha:  0.0001\n",
      "batch_size:  1\n"
     ]
    },
    {
     "name": "stderr",
     "output_type": "stream",
     "text": [
      "/opt/conda/lib/python3.7/site-packages/sklearn/neural_network/_multilayer_perceptron.py:585: ConvergenceWarning: Stochastic Optimizer: Maximum iterations (10) reached and the optimization hasn't converged yet.\n",
      "  % self.max_iter, ConvergenceWarning)\n",
      "/opt/conda/lib/python3.7/site-packages/sklearn/neural_network/_multilayer_perceptron.py:585: ConvergenceWarning: Stochastic Optimizer: Maximum iterations (10) reached and the optimization hasn't converged yet.\n",
      "  % self.max_iter, ConvergenceWarning)\n"
     ]
    },
    {
     "name": "stdout",
     "output_type": "stream",
     "text": [
      "Training accuracy:  0.921875\n",
      "Testing accuracy:  0.890625\n",
      "Activation:  logistic\n",
      "alpha:  1e-06\n",
      "batch_size:  100\n",
      "Training accuracy:  0.8677083333333333\n",
      "Testing accuracy:  0.85625\n",
      "Activation:  logistic\n",
      "alpha:  1e-06\n",
      "batch_size:  25\n"
     ]
    },
    {
     "name": "stderr",
     "output_type": "stream",
     "text": [
      "/opt/conda/lib/python3.7/site-packages/sklearn/neural_network/_multilayer_perceptron.py:585: ConvergenceWarning: Stochastic Optimizer: Maximum iterations (10) reached and the optimization hasn't converged yet.\n",
      "  % self.max_iter, ConvergenceWarning)\n"
     ]
    },
    {
     "name": "stdout",
     "output_type": "stream",
     "text": [
      "Training accuracy:  0.9229166666666667\n",
      "Testing accuracy:  0.890625\n",
      "Activation:  logistic\n",
      "alpha:  1e-06\n",
      "batch_size:  5\n"
     ]
    },
    {
     "name": "stderr",
     "output_type": "stream",
     "text": [
      "/opt/conda/lib/python3.7/site-packages/sklearn/neural_network/_multilayer_perceptron.py:585: ConvergenceWarning: Stochastic Optimizer: Maximum iterations (10) reached and the optimization hasn't converged yet.\n",
      "  % self.max_iter, ConvergenceWarning)\n"
     ]
    },
    {
     "name": "stdout",
     "output_type": "stream",
     "text": [
      "Training accuracy:  0.9270833333333334\n",
      "Testing accuracy:  0.896875\n",
      "Activation:  logistic\n",
      "alpha:  1e-06\n",
      "batch_size:  1\n"
     ]
    },
    {
     "name": "stderr",
     "output_type": "stream",
     "text": [
      "/opt/conda/lib/python3.7/site-packages/sklearn/neural_network/_multilayer_perceptron.py:585: ConvergenceWarning: Stochastic Optimizer: Maximum iterations (10) reached and the optimization hasn't converged yet.\n",
      "  % self.max_iter, ConvergenceWarning)\n"
     ]
    },
    {
     "name": "stdout",
     "output_type": "stream",
     "text": [
      "Training accuracy:  0.921875\n",
      "Testing accuracy:  0.896875\n"
     ]
    },
    {
     "data": {
      "image/png": "[encoded data removed]",
      "text/plain": [
       "<Figure size 1600x480 with 1 Axes>"
      ]
     },
     "metadata": {},
     "output_type": "display_data"
    },
    {
     "name": "stdout",
     "output_type": "stream",
     "text": [
      "['1) A:relu-a:0.1-B:100', '2) A:relu-a:0.1-B:25', '3) A:relu-a:0.1-B:5', '4) A:relu-a:0.1-B:1', '5) A:relu-a:0.001-B:100', '6) A:relu-a:0.001-B:25', '7) A:relu-a:0.001-B:5', '8) A:relu-a:0.001-B:1', '9) A:relu-a:0.0001-B:100', '10) A:relu-a:0.0001-B:25', '11) A:relu-a:0.0001-B:5', '12) A:relu-a:0.0001-B:1', '13) A:relu-a:1e-06-B:100', '14) A:relu-a:1e-06-B:25', '15) A:relu-a:1e-06-B:5', '16) A:relu-a:1e-06-B:1', '17) A:logistic-a:0.1-B:100', '18) A:logistic-a:0.1-B:25', '19) A:logistic-a:0.1-B:5', '20) A:logistic-a:0.1-B:1', '21) A:logistic-a:0.001-B:100', '22) A:logistic-a:0.001-B:25', '23) A:logistic-a:0.001-B:5', '24) A:logistic-a:0.001-B:1', '25) A:logistic-a:0.0001-B:100', '26) A:logistic-a:0.0001-B:25', '27) A:logistic-a:0.0001-B:5', '28) A:logistic-a:0.0001-B:1', '29) A:logistic-a:1e-06-B:100', '30) A:logistic-a:1e-06-B:25', '31) A:logistic-a:1e-06-B:5', '32) A:logistic-a:1e-06-B:1']\n"
     ]
    }
   ],
   "source": [
    "activation_type=['relu','logistic']\n",
    "alpha=[0.1,0.001,0.0001,0.000001]\n",
    "batch_size=[100,25,5,1]\n",
    "\n",
    "axis_table_1=[]\n",
    "n=0\n",
    "for i in range(len(activation_type)):\n",
    "  for j in range(len(alpha)):\n",
    "    for k in range(len(batch_size)):\n",
    "      n+=1\n",
    "      axis_table_1.append(str(n))\n",
    "\n",
    "axis_table_2=[]\n",
    "it=''\n",
    "for i in range(len(activation_type)):\n",
    "  for j in range(len(alpha)):\n",
    "    for k in range(len(batch_size)):\n",
    "      it=\"A:\"+str(activation_type[i])+\"-a:\"+str(alpha[j])+\"-B:\"+str(batch_size[k])\n",
    "      axis_table_2.append(it)\n",
    "        \n",
    "axis_table=[]\n",
    "for l in range(len(axis_table_1)):\n",
    "    axis_table.append(axis_table_1[l]+\") \"+axis_table_2[l])\n",
    "    \n",
    "\n",
    "acc_testing = []\n",
    "acc_training = []\n",
    "\n",
    "for i in activation_type:\n",
    "  for j in alpha:\n",
    "    for k in batch_size:\n",
    "      print(\"Activation: \",i)\n",
    "      print(\"alpha: \",j)\n",
    "      print(\"batch_size: \",k)\n",
    "      mlp_model(i,j,k)\n",
    "      acc_training.append(model.score(train_X, train_y))  \n",
    "      acc_testing.append(model.score(test_X, test_y))\n",
    "\n",
    "figure(num=None, figsize=(20, 6), dpi=80, facecolor='w', edgecolor='k')\n",
    "plt.scatter(axis_table_1, acc_training, color='blue', label='Accuracy for training')\n",
    "plt.scatter(axis_table_1, acc_testing, color='red', label='Accuracy for testing')\n",
    "plt.title('Multi Layer Perceptron')\n",
    "plt.xlabel('Parameters')\n",
    "plt.ylabel('Accuracy')\n",
    "plt.legend()\n",
    "plt.show()\n",
    "print(axis_table)"
   ]
  },
  {
   "cell_type": "markdown",
   "metadata": {
    "papermill": {
     "duration": 0.048317,
     "end_time": "2020-12-10T17:37:56.002502",
     "exception": false,
     "start_time": "2020-12-10T17:37:55.954185",
     "status": "completed"
    },
    "tags": []
   },
   "source": [
    "I wanted to add some kind of classifier using neural networks and came accross this multi layer perceptron classifier with Scikit-learn. The parameters that we could vary were interesting: the activation function, the initial learning rate, the learning rate, the batch_size. Which would allow us to add neural networks to this list of classifiers without a deep learning algorithm.\n",
    "\n",
    "First thing we see in the plot is that the linear regression activation function is slightly more effective than the logistic regression and gets higher accuracy scores, unless the batch size is 1. The highest accuracy was obtained with the lowest alpha rate 0.000001 and a low batch size of 1. Of course, if we choose the smallest value of alpha and batch size, the algorithm will maybe go into overtraining so I tried to add some extreme parameters. \n",
    "Moreover, usually such parameters would lead to overtraining but in our case they were very effective in predicting correctly. In the submission, this classifier got my highest score (97.5%) with parameters activation='logistic', alpha=0.0001, batch_size=5."
   ]
  },
  {
   "cell_type": "markdown",
   "metadata": {
    "id": "3ruISA3lEZmG",
    "papermill": {
     "duration": 0.048596,
     "end_time": "2020-12-10T17:37:56.100776",
     "exception": false,
     "start_time": "2020-12-10T17:37:56.052180",
     "status": "completed"
    },
    "tags": []
   },
   "source": [
    "------\n",
    "**Random Forest**\n",
    "\n",
    "The varying parameters are the number of estimators which are the number of trees in the forest and max_depth which is the maximum depth of the tree."
   ]
  },
  {
   "cell_type": "code",
   "execution_count": 19,
   "metadata": {
    "execution": {
     "iopub.execute_input": "2020-12-10T17:37:56.203134Z",
     "iopub.status.busy": "2020-12-10T17:37:56.202461Z",
     "iopub.status.idle": "2020-12-10T17:37:56.204904Z",
     "shell.execute_reply": "2020-12-10T17:37:56.205402Z"
    },
    "id": "7fcNldzCT7Jd",
    "papermill": {
     "duration": 0.056416,
     "end_time": "2020-12-10T17:37:56.205583",
     "exception": false,
     "start_time": "2020-12-10T17:37:56.149167",
     "status": "completed"
    },
    "tags": []
   },
   "outputs": [],
   "source": [
    "def rfc_model(max_depth,estimators):\n",
    "  model = RandomForestClassifier(n_estimators=int(estimators),criterion=\"entropy\", max_depth=int(max_depth) )\n",
    "  prediction_model(model)"
   ]
  },
  {
   "cell_type": "code",
   "execution_count": 20,
   "metadata": {
    "execution": {
     "iopub.execute_input": "2020-12-10T17:37:56.319780Z",
     "iopub.status.busy": "2020-12-10T17:37:56.319088Z",
     "iopub.status.idle": "2020-12-10T17:38:08.810977Z",
     "shell.execute_reply": "2020-12-10T17:38:08.811450Z"
    },
    "id": "S9gieqcAT_HT",
    "outputId": "e098f019-10bc-47d0-d2cd-45d7362c7fc6",
    "papermill": {
     "duration": 12.555759,
     "end_time": "2020-12-10T17:38:08.811636",
     "exception": false,
     "start_time": "2020-12-10T17:37:56.255877",
     "status": "completed"
    },
    "tags": []
   },
   "outputs": [
    {
     "name": "stdout",
     "output_type": "stream",
     "text": [
      "Maximum depth:  2\n",
      "Nb estimators:  2\n",
      "Training accuracy:  0.7760416666666666\n",
      "Testing accuracy:  0.74375\n",
      "Maximum depth:  2\n",
      "Nb estimators:  5\n",
      "Training accuracy:  0.75\n",
      "Testing accuracy:  0.740625\n",
      "Maximum depth:  2\n",
      "Nb estimators:  10\n",
      "Training accuracy:  0.7333333333333333\n",
      "Testing accuracy:  0.703125\n",
      "Maximum depth:  2\n",
      "Nb estimators:  20\n",
      "Training accuracy:  0.8041666666666667\n",
      "Testing accuracy:  0.775\n",
      "Maximum depth:  2\n",
      "Nb estimators:  1000\n",
      "Training accuracy:  0.8645833333333334\n",
      "Testing accuracy:  0.821875\n",
      "Maximum depth:  5\n",
      "Nb estimators:  2\n",
      "Training accuracy:  0.8625\n",
      "Testing accuracy:  0.76875\n",
      "Maximum depth:  5\n",
      "Nb estimators:  5\n",
      "Training accuracy:  0.9052083333333333\n",
      "Testing accuracy:  0.840625\n",
      "Maximum depth:  5\n",
      "Nb estimators:  10\n",
      "Training accuracy:  0.9364583333333333\n",
      "Testing accuracy:  0.865625\n",
      "Maximum depth:  5\n",
      "Nb estimators:  20\n",
      "Training accuracy:  0.9447916666666667\n",
      "Testing accuracy:  0.896875\n",
      "Maximum depth:  5\n",
      "Nb estimators:  1000\n",
      "Training accuracy:  0.95625\n",
      "Testing accuracy:  0.909375\n",
      "Maximum depth:  10\n",
      "Nb estimators:  2\n",
      "Training accuracy:  0.9229166666666667\n",
      "Testing accuracy:  0.79375\n",
      "Maximum depth:  10\n",
      "Nb estimators:  5\n",
      "Training accuracy:  0.984375\n",
      "Testing accuracy:  0.828125\n",
      "Maximum depth:  10\n",
      "Nb estimators:  10\n",
      "Training accuracy:  0.9864583333333333\n",
      "Testing accuracy:  0.90625\n",
      "Maximum depth:  10\n",
      "Nb estimators:  20\n",
      "Training accuracy:  0.9989583333333333\n",
      "Testing accuracy:  0.921875\n",
      "Maximum depth:  10\n",
      "Nb estimators:  1000\n",
      "Training accuracy:  1.0\n",
      "Testing accuracy:  0.921875\n",
      "Maximum depth:  20\n",
      "Nb estimators:  2\n",
      "Training accuracy:  0.9322916666666666\n",
      "Testing accuracy:  0.76875\n",
      "Maximum depth:  20\n",
      "Nb estimators:  5\n",
      "Training accuracy:  0.9885416666666667\n",
      "Testing accuracy:  0.8625\n",
      "Maximum depth:  20\n",
      "Nb estimators:  10\n",
      "Training accuracy:  0.9947916666666666\n",
      "Testing accuracy:  0.9\n",
      "Maximum depth:  20\n",
      "Nb estimators:  20\n",
      "Training accuracy:  0.9989583333333333\n",
      "Testing accuracy:  0.90625\n",
      "Maximum depth:  20\n",
      "Nb estimators:  1000\n",
      "Training accuracy:  1.0\n",
      "Testing accuracy:  0.925\n"
     ]
    },
    {
     "data": {
      "image/png": "[encoded data removed]",
      "text/plain": [
       "<Figure size 1440x480 with 1 Axes>"
      ]
     },
     "metadata": {},
     "output_type": "display_data"
    },
    {
     "name": "stdout",
     "output_type": "stream",
     "text": [
      "['D2-E2', 'D2-E5', 'D2-E10', 'D2-E20', 'D2-E1000', 'D5-E2', 'D5-E5', 'D5-E10', 'D5-E20', 'D5-E1000', 'D10-E2', 'D10-E5', 'D10-E10', 'D10-E20', 'D10-E1000', 'D20-E2', 'D20-E5', 'D20-E10', 'D20-E20', 'D20-E1000']\n"
     ]
    }
   ],
   "source": [
    "max_depth_table = [2,5,10,20]\n",
    "estimators_table = [2,5,10,20,1000]\n",
    "\n",
    "axis_table=[]\n",
    "it=''\n",
    "for i in range(len(max_depth_table)):\n",
    "  for j in range(len(estimators_table)):\n",
    "    it=\"D\"+str(max_depth_table[i])+\"-E\"+str(estimators_table[j])\n",
    "    axis_table.append(it)\n",
    "\n",
    "acc_testing = []\n",
    "acc_training = []\n",
    "\n",
    "for i in max_depth_table:\n",
    "  for j in estimators_table:\n",
    "    print(\"Maximum depth: \",i)\n",
    "    print(\"Nb estimators: \",j)\n",
    "    rfc_model(i,j)\n",
    "    acc_training.append(accuracy_score(train_y, prediction_train))  \n",
    "    acc_testing.append(accuracy_score(test_y, prediction))\n",
    "\n",
    "figure(num=None, figsize=(18, 6), dpi=80, facecolor='w', edgecolor='k')\n",
    "plt.scatter(axis_table, acc_training, color='blue', label='Accuracy for training')\n",
    "plt.scatter(axis_table, acc_testing, color='red', label='Accuracy for testing')\n",
    "plt.title('Random forest classifier')\n",
    "plt.xlabel('Parameters')\n",
    "plt.ylabel('Accuracy')\n",
    "plt.legend()\n",
    "plt.show()\n",
    "print(axis_table)"
   ]
  },
  {
   "cell_type": "markdown",
   "metadata": {
    "papermill": {
     "duration": 0.051712,
     "end_time": "2020-12-10T17:38:08.915766",
     "exception": false,
     "start_time": "2020-12-10T17:38:08.864054",
     "status": "completed"
    },
    "tags": []
   },
   "source": [
    "At first sight, Random forest seemed to be on the top 3 classifiers we tested so far. The submission for the parameters max_depth=10 and n_estimators=10000 only gave fair results at 87%. On the second try with Random Forest, I got 95%."
   ]
  },
  {
   "cell_type": "markdown",
   "metadata": {
    "papermill": {
     "duration": 0.051087,
     "end_time": "2020-12-10T17:38:09.018415",
     "exception": false,
     "start_time": "2020-12-10T17:38:08.967328",
     "status": "completed"
    },
    "tags": []
   },
   "source": [
    "------\n",
    "**INTERACTING WITH THE SUBMISSIONS TO CHOOSE THE BEST CLASSIFIER**\n",
    "\n",
    "\n",
    "- **First submission** was done with Random forest, max_depth=5 and n_estimators=10 only gave fair results at 87%. Seeing the results of some other students, there was definitely room for a higher score.\n",
    "- **Second and third submissions** were done with AdaBoost classifier which started to give better accuracy score from 92.5% to 93.5% after training the model a little more with changed parameters. \n",
    "- **Fourth submission** with KNeighbors did not get a higher score than AdaBoost, even with the best parameter with 5 neighbors. So for the **5th submission**, I tried again to train the model by increasing the parameters for AdaBoost and got the highest accuracy so far at 96%. Seeing that the  score increased, I gave more extreme values to try to increase it further than 96%, but it did not change at the **6th submission**.\n",
    "- After getting 96% accuracy on the submission of AdaBoost and could not get higher on this classifier, I decided to try other classifiers like Random Forest, with higher training parameters this time max_depth=10 and n_estimators=1000 which gave 95% accuracy (**7th submission**)\n",
    "- For the **8th submission**, MLP was used with A='relu',alpha=0.001 and batch_size=25 but only got me 95% accuracy again.\n",
    "- At this point, I selected AdaBoost as the best classifiers for classifying AT4 data, since none could surpass it.\n",
    "- At the end, I changed MLP again with more extreme values by decreasing the alpha and the batch size to 0.000001 and 1 respectively and got the most accurate results at 97.5% accuracy on **9th submission**."
   ]
  },
  {
   "cell_type": "markdown",
   "metadata": {
    "id": "DmmeT2s2roFJ",
    "papermill": {
     "duration": 0.051332,
     "end_time": "2020-12-10T17:38:09.121664",
     "exception": false,
     "start_time": "2020-12-10T17:38:09.070332",
     "status": "completed"
    },
    "tags": []
   },
   "source": [
    "----------------\n",
    "Choosing the model and the best parameters giving the highest accuracy to generate the prediction file"
   ]
  },
  {
   "cell_type": "code",
   "execution_count": 21,
   "metadata": {
    "execution": {
     "iopub.execute_input": "2020-12-10T17:38:09.237391Z",
     "iopub.status.busy": "2020-12-10T17:38:09.234899Z",
     "iopub.status.idle": "2020-12-10T17:38:16.594625Z",
     "shell.execute_reply": "2020-12-10T17:38:16.594009Z"
    },
    "id": "UXCyeLBw0lOQ",
    "outputId": "3e2c3946-51b6-42e1-aedd-68d9b00c6d19",
    "papermill": {
     "duration": 7.420545,
     "end_time": "2020-12-10T17:38:16.594762",
     "exception": false,
     "start_time": "2020-12-10T17:38:09.174217",
     "status": "completed"
    },
    "tags": []
   },
   "outputs": [
    {
     "name": "stdout",
     "output_type": "stream",
     "text": [
      "[2 0 0 3 3 1 2 3 0 1 2 0 1 2 0 0 3 0 2 0 2 3 3 3 3 3 1 2 0 3 0 0 0 2 2 1 0\n",
      " 0 0 1 2 1 0 0 3 2 0 1 3 2 1 0 0 0 3 0 2 3 1 2 1 1 2 2 3 0 2 2 1 1 2 3 3 1\n",
      " 2 2 1 3 2 1 3 3 3 2 1 3 1 3 3 2 1 1 1 3 2 2 2 3 3 3 3 1 2 0 1 1 3 2 2 1 3\n",
      " 0 1 0 3 0 3 1 3 3 3 3 3 0 1 3 2 0 0 3 3 2 1 1 2 1 3 1 2 2 2 3 1 0 0 0 1 1\n",
      " 2 0 1 2 2 0 1 3 0 1 1 3 3 3 1 0 1 3 1 1 1 1 2 0 1 1 3 0 0 2 0 2 2 3 1 1 2\n",
      " 0 1 2 0 2 2 1 2 3 1 2 1 1 1 0 1 2 0 3 2 3 0 0 3 0 2 0 3 3 2 0 1 2 1 3 0 1\n",
      " 0 2 2 0 1 3 2 3 0 3 2 2 2 1 1 0 3 3 0 0 0 1 3 0 1 1 2 2 2 1 1 2 2 1 2 2 1\n",
      " 2 0 0 1 1 1 0 3 1 0 1 1 3 0 3 1 3 2 3 3 0 0 0 1 0 3 0 3 1 2 0 0 0 2 3 1 1\n",
      " 0 2 1 0 1 1 1 0 2 3 2 0 3 1 3 1 3 2 1 1 2 3 2 0]\n",
      "      id  label\n",
      "0      0      2\n",
      "1      1      0\n",
      "2      2      0\n",
      "3      3      3\n",
      "4      4      3\n",
      "..   ...    ...\n",
      "315  315      1\n",
      "316  316      2\n",
      "317  317      3\n",
      "318  318      2\n",
      "319  319      0\n",
      "\n",
      "[320 rows x 2 columns]\n"
     ]
    }
   ],
   "source": [
    "# Creating a new model model_1 for submission:\n",
    "#model_1 = RandomForestClassifier(n_estimators=10000,criterion=\"entropy\", max_depth=10)\n",
    "model_1 = AdaBoostClassifier(tree.DecisionTreeClassifier(max_depth=5), n_estimators=1000)\n",
    "#model_1 = KNeighborsClassifier(n_neighbors=5)\n",
    "#model_1 = MLPClassifier(activation='relu', alpha=0.000001, batch_size=5, learning_rate_init=0.001, random_state=1,  max_iter=10)\n",
    "#model_1 = MLPClassifier(activation='logistic', alpha=0.0001, batch_size=5, learning_rate_init=0.001, random_state=1,  max_iter=10)\n",
    "\n",
    "# Fitting model_1 \n",
    "model_1.fit(train_X, train_y)\n",
    "predictions_model_1 = model_1.predict(nl_data_X)\n",
    "print(predictions_model_1)\n",
    "\n",
    "# Creating a pandas Dataframe with the correct form for submission\n",
    "entry=[]\n",
    "for i in range(len(prediction)):\n",
    "  entry.append([i,predictions_model_1[i]])\n",
    "\n",
    "new_df = pd.DataFrame(entry, columns = [\"id\",\"label\"])\n",
    "new_df.to_csv('new_df.csv', index=False)\n",
    "\n",
    "print(new_df)"
   ]
  }
 ],
 "metadata": {
  "kernelspec": {
   "display_name": "Python 3",
   "language": "python",
   "name": "python3"
  },
  "language_info": {
   "codemirror_mode": {
    "name": "ipython",
    "version": 3
   },
   "file_extension": ".py",
   "mimetype": "text/x-python",
   "name": "python",
   "nbconvert_exporter": "python",
   "pygments_lexer": "ipython3",
   "version": "3.7.6"
  },
  "papermill": {
   "duration": 110.569733,
   "end_time": "2020-12-10T17:38:16.754857",
   "environment_variables": {},
   "exception": null,
   "input_path": "__notebook__.ipynb",
   "output_path": "__notebook__.ipynb",
   "parameters": {},
   "start_time": "2020-12-10T17:36:26.185124",
   "version": "2.1.0"
  }
 },
 "nbformat": 4,
 "nbformat_minor": 4
}
